{
  "cells": [
    {
      "metadata": {
        "_uuid": "b9a4e59c2718189766f3fedc7154366f4301b60d",
        "id": "PeyooMbKD3wX"
      },
      "cell_type": "markdown",
      "source": [
        "## Exploring the Olympics dataset"
      ]
    },
    {
      "metadata": {
        "_uuid": "ccc5c8919ca4d16ef833e94667cdf7f2d19269f1",
        "id": "Gb2PrM7BD3wX"
      },
      "cell_type": "markdown",
      "source": [
        "Have you ever had a sports clash turn into a data analytics project? Well, this is what happened to me and a close group of friends during one casual conversation about sports!!\n",
        "\n",
        "I decided to do some number crunching on 120 years of olympics to see which are the best performing countries at the olympics and what makes them great!\n",
        "\n",
        "I use the [olympics dataset](https://www.kaggle.com/heesoo37/120-years-of-olympic-history-athletes-and-results) from kaggle, and decided to merge it with the country wise [gdp](https://www.kaggle.com/resulcaliskan/countries-gdps) and [population data](https://www.kaggle.com/centurion1986/countries-population).\n",
        "\n",
        "With the weapons ready, its time to see who's BOSS!"
      ]
    },
    {
      "metadata": {
        "_uuid": "8f2839f25d086af736a60e9eeb907d3b93b6e0e5",
        "_cell_guid": "b1076dfc-b9ad-4769-8c92-a6c4dae69d19",
        "trusted": true,
        "collapsed": true,
        "_kg_hide-input": true,
        "id": "KhiL4NKwD3wY",
        "colab": {
          "base_uri": "https://localhost:8080/"
        },
        "outputId": "c5940ada-0514-4a5b-be61-0353dcbad8f3"
      },
      "cell_type": "code",
      "source": [
        "import pandas as pd\n",
        "import numpy as np\n",
        "%pylab inline"
      ],
      "execution_count": null,
      "outputs": [
        {
          "output_type": "stream",
          "name": "stdout",
          "text": [
            "Populating the interactive namespace from numpy and matplotlib\n"
          ]
        }
      ]
    },
    {
      "metadata": {
        "_uuid": "bd8d97d633bb964a899b8a3ec0e47e225a424d59",
        "id": "fznAOKTlD3wZ"
      },
      "cell_type": "markdown",
      "source": [
        "The first five rows of the olympics data are shown below. We have 271,116 rows and 15 columns. Variables include Name, Sex, Age, Height, Weight of the athlete, his team name, sport, event and the year, season, city of the olympics he/she took part in. In addition, the data captures the medal won (if any) by the athlete."
      ]
    },
    {
      "metadata": {
        "_cell_guid": "79c7e3d0-c299-4dcb-8224-4455121ee9b0",
        "_uuid": "d629ff2d2480ee46fbb7e2d37f6b5fab8052498a",
        "trusted": true,
        "collapsed": true,
        "_kg_hide-input": true,
        "id": "qkGCmFfuD3wZ",
        "colab": {
          "base_uri": "https://localhost:8080/",
          "height": 451
        },
        "outputId": "b0c2f562-d360-46b0-a389-309a55721492"
      },
      "cell_type": "code",
      "source": [
        "# Read in the data set\n",
        "olympics = pd.read_csv('athlete_events.csv')\n",
        "olympics.head()"
      ],
      "execution_count": null,
      "outputs": [
        {
          "output_type": "execute_result",
          "data": {
            "text/plain": [
              "   ID                      Name Sex   Age  Height  Weight            Team  \\\n",
              "0   1                 A Dijiang   M  24.0   180.0    80.0           China   \n",
              "1   2                  A Lamusi   M  23.0   170.0    60.0           China   \n",
              "2   3       Gunnar Nielsen Aaby   M  24.0     NaN     NaN         Denmark   \n",
              "3   4      Edgar Lindenau Aabye   M  34.0     NaN     NaN  Denmark/Sweden   \n",
              "4   5  Christine Jacoba Aaftink   F  21.0   185.0    82.0     Netherlands   \n",
              "\n",
              "   NOC        Games  Year  Season       City          Sport  \\\n",
              "0  CHN  1992 Summer  1992  Summer  Barcelona     Basketball   \n",
              "1  CHN  2012 Summer  2012  Summer     London           Judo   \n",
              "2  DEN  1920 Summer  1920  Summer  Antwerpen       Football   \n",
              "3  DEN  1900 Summer  1900  Summer      Paris     Tug-Of-War   \n",
              "4  NED  1988 Winter  1988  Winter    Calgary  Speed Skating   \n",
              "\n",
              "                              Event Medal  \n",
              "0       Basketball Men's Basketball   NaN  \n",
              "1      Judo Men's Extra-Lightweight   NaN  \n",
              "2           Football Men's Football   NaN  \n",
              "3       Tug-Of-War Men's Tug-Of-War  Gold  \n",
              "4  Speed Skating Women's 500 metres   NaN  "
            ],
            "text/html": [
              "\n",
              "  <div id=\"df-252a36bc-06bf-4e19-8e65-31ddc0b4d6ff\" class=\"colab-df-container\">\n",
              "    <div>\n",
              "<style scoped>\n",
              "    .dataframe tbody tr th:only-of-type {\n",
              "        vertical-align: middle;\n",
              "    }\n",
              "\n",
              "    .dataframe tbody tr th {\n",
              "        vertical-align: top;\n",
              "    }\n",
              "\n",
              "    .dataframe thead th {\n",
              "        text-align: right;\n",
              "    }\n",
              "</style>\n",
              "<table border=\"1\" class=\"dataframe\">\n",
              "  <thead>\n",
              "    <tr style=\"text-align: right;\">\n",
              "      <th></th>\n",
              "      <th>ID</th>\n",
              "      <th>Name</th>\n",
              "      <th>Sex</th>\n",
              "      <th>Age</th>\n",
              "      <th>Height</th>\n",
              "      <th>Weight</th>\n",
              "      <th>Team</th>\n",
              "      <th>NOC</th>\n",
              "      <th>Games</th>\n",
              "      <th>Year</th>\n",
              "      <th>Season</th>\n",
              "      <th>City</th>\n",
              "      <th>Sport</th>\n",
              "      <th>Event</th>\n",
              "      <th>Medal</th>\n",
              "    </tr>\n",
              "  </thead>\n",
              "  <tbody>\n",
              "    <tr>\n",
              "      <th>0</th>\n",
              "      <td>1</td>\n",
              "      <td>A Dijiang</td>\n",
              "      <td>M</td>\n",
              "      <td>24.0</td>\n",
              "      <td>180.0</td>\n",
              "      <td>80.0</td>\n",
              "      <td>China</td>\n",
              "      <td>CHN</td>\n",
              "      <td>1992 Summer</td>\n",
              "      <td>1992</td>\n",
              "      <td>Summer</td>\n",
              "      <td>Barcelona</td>\n",
              "      <td>Basketball</td>\n",
              "      <td>Basketball Men's Basketball</td>\n",
              "      <td>NaN</td>\n",
              "    </tr>\n",
              "    <tr>\n",
              "      <th>1</th>\n",
              "      <td>2</td>\n",
              "      <td>A Lamusi</td>\n",
              "      <td>M</td>\n",
              "      <td>23.0</td>\n",
              "      <td>170.0</td>\n",
              "      <td>60.0</td>\n",
              "      <td>China</td>\n",
              "      <td>CHN</td>\n",
              "      <td>2012 Summer</td>\n",
              "      <td>2012</td>\n",
              "      <td>Summer</td>\n",
              "      <td>London</td>\n",
              "      <td>Judo</td>\n",
              "      <td>Judo Men's Extra-Lightweight</td>\n",
              "      <td>NaN</td>\n",
              "    </tr>\n",
              "    <tr>\n",
              "      <th>2</th>\n",
              "      <td>3</td>\n",
              "      <td>Gunnar Nielsen Aaby</td>\n",
              "      <td>M</td>\n",
              "      <td>24.0</td>\n",
              "      <td>NaN</td>\n",
              "      <td>NaN</td>\n",
              "      <td>Denmark</td>\n",
              "      <td>DEN</td>\n",
              "      <td>1920 Summer</td>\n",
              "      <td>1920</td>\n",
              "      <td>Summer</td>\n",
              "      <td>Antwerpen</td>\n",
              "      <td>Football</td>\n",
              "      <td>Football Men's Football</td>\n",
              "      <td>NaN</td>\n",
              "    </tr>\n",
              "    <tr>\n",
              "      <th>3</th>\n",
              "      <td>4</td>\n",
              "      <td>Edgar Lindenau Aabye</td>\n",
              "      <td>M</td>\n",
              "      <td>34.0</td>\n",
              "      <td>NaN</td>\n",
              "      <td>NaN</td>\n",
              "      <td>Denmark/Sweden</td>\n",
              "      <td>DEN</td>\n",
              "      <td>1900 Summer</td>\n",
              "      <td>1900</td>\n",
              "      <td>Summer</td>\n",
              "      <td>Paris</td>\n",
              "      <td>Tug-Of-War</td>\n",
              "      <td>Tug-Of-War Men's Tug-Of-War</td>\n",
              "      <td>Gold</td>\n",
              "    </tr>\n",
              "    <tr>\n",
              "      <th>4</th>\n",
              "      <td>5</td>\n",
              "      <td>Christine Jacoba Aaftink</td>\n",
              "      <td>F</td>\n",
              "      <td>21.0</td>\n",
              "      <td>185.0</td>\n",
              "      <td>82.0</td>\n",
              "      <td>Netherlands</td>\n",
              "      <td>NED</td>\n",
              "      <td>1988 Winter</td>\n",
              "      <td>1988</td>\n",
              "      <td>Winter</td>\n",
              "      <td>Calgary</td>\n",
              "      <td>Speed Skating</td>\n",
              "      <td>Speed Skating Women's 500 metres</td>\n",
              "      <td>NaN</td>\n",
              "    </tr>\n",
              "  </tbody>\n",
              "</table>\n",
              "</div>\n",
              "    <div class=\"colab-df-buttons\">\n",
              "\n",
              "  <div class=\"colab-df-container\">\n",
              "    <button class=\"colab-df-convert\" onclick=\"convertToInteractive('df-252a36bc-06bf-4e19-8e65-31ddc0b4d6ff')\"\n",
              "            title=\"Convert this dataframe to an interactive table.\"\n",
              "            style=\"display:none;\">\n",
              "\n",
              "  <svg xmlns=\"http://www.w3.org/2000/svg\" height=\"24px\" viewBox=\"0 -960 960 960\">\n",
              "    <path d=\"M120-120v-720h720v720H120Zm60-500h600v-160H180v160Zm220 220h160v-160H400v160Zm0 220h160v-160H400v160ZM180-400h160v-160H180v160Zm440 0h160v-160H620v160ZM180-180h160v-160H180v160Zm440 0h160v-160H620v160Z\"/>\n",
              "  </svg>\n",
              "    </button>\n",
              "\n",
              "  <style>\n",
              "    .colab-df-container {\n",
              "      display:flex;\n",
              "      gap: 12px;\n",
              "    }\n",
              "\n",
              "    .colab-df-convert {\n",
              "      background-color: #E8F0FE;\n",
              "      border: none;\n",
              "      border-radius: 50%;\n",
              "      cursor: pointer;\n",
              "      display: none;\n",
              "      fill: #1967D2;\n",
              "      height: 32px;\n",
              "      padding: 0 0 0 0;\n",
              "      width: 32px;\n",
              "    }\n",
              "\n",
              "    .colab-df-convert:hover {\n",
              "      background-color: #E2EBFA;\n",
              "      box-shadow: 0px 1px 2px rgba(60, 64, 67, 0.3), 0px 1px 3px 1px rgba(60, 64, 67, 0.15);\n",
              "      fill: #174EA6;\n",
              "    }\n",
              "\n",
              "    .colab-df-buttons div {\n",
              "      margin-bottom: 4px;\n",
              "    }\n",
              "\n",
              "    [theme=dark] .colab-df-convert {\n",
              "      background-color: #3B4455;\n",
              "      fill: #D2E3FC;\n",
              "    }\n",
              "\n",
              "    [theme=dark] .colab-df-convert:hover {\n",
              "      background-color: #434B5C;\n",
              "      box-shadow: 0px 1px 3px 1px rgba(0, 0, 0, 0.15);\n",
              "      filter: drop-shadow(0px 1px 2px rgba(0, 0, 0, 0.3));\n",
              "      fill: #FFFFFF;\n",
              "    }\n",
              "  </style>\n",
              "\n",
              "    <script>\n",
              "      const buttonEl =\n",
              "        document.querySelector('#df-252a36bc-06bf-4e19-8e65-31ddc0b4d6ff button.colab-df-convert');\n",
              "      buttonEl.style.display =\n",
              "        google.colab.kernel.accessAllowed ? 'block' : 'none';\n",
              "\n",
              "      async function convertToInteractive(key) {\n",
              "        const element = document.querySelector('#df-252a36bc-06bf-4e19-8e65-31ddc0b4d6ff');\n",
              "        const dataTable =\n",
              "          await google.colab.kernel.invokeFunction('convertToInteractive',\n",
              "                                                    [key], {});\n",
              "        if (!dataTable) return;\n",
              "\n",
              "        const docLinkHtml = 'Like what you see? Visit the ' +\n",
              "          '<a target=\"_blank\" href=https://colab.research.google.com/notebooks/data_table.ipynb>data table notebook</a>'\n",
              "          + ' to learn more about interactive tables.';\n",
              "        element.innerHTML = '';\n",
              "        dataTable['output_type'] = 'display_data';\n",
              "        await google.colab.output.renderOutput(dataTable, element);\n",
              "        const docLink = document.createElement('div');\n",
              "        docLink.innerHTML = docLinkHtml;\n",
              "        element.appendChild(docLink);\n",
              "      }\n",
              "    </script>\n",
              "  </div>\n",
              "\n",
              "\n",
              "<div id=\"df-2281be71-929e-4623-9cf5-b57dd80474cd\">\n",
              "  <button class=\"colab-df-quickchart\" onclick=\"quickchart('df-2281be71-929e-4623-9cf5-b57dd80474cd')\"\n",
              "            title=\"Suggest charts\"\n",
              "            style=\"display:none;\">\n",
              "\n",
              "<svg xmlns=\"http://www.w3.org/2000/svg\" height=\"24px\"viewBox=\"0 0 24 24\"\n",
              "     width=\"24px\">\n",
              "    <g>\n",
              "        <path d=\"M19 3H5c-1.1 0-2 .9-2 2v14c0 1.1.9 2 2 2h14c1.1 0 2-.9 2-2V5c0-1.1-.9-2-2-2zM9 17H7v-7h2v7zm4 0h-2V7h2v10zm4 0h-2v-4h2v4z\"/>\n",
              "    </g>\n",
              "</svg>\n",
              "  </button>\n",
              "\n",
              "<style>\n",
              "  .colab-df-quickchart {\n",
              "      --bg-color: #E8F0FE;\n",
              "      --fill-color: #1967D2;\n",
              "      --hover-bg-color: #E2EBFA;\n",
              "      --hover-fill-color: #174EA6;\n",
              "      --disabled-fill-color: #AAA;\n",
              "      --disabled-bg-color: #DDD;\n",
              "  }\n",
              "\n",
              "  [theme=dark] .colab-df-quickchart {\n",
              "      --bg-color: #3B4455;\n",
              "      --fill-color: #D2E3FC;\n",
              "      --hover-bg-color: #434B5C;\n",
              "      --hover-fill-color: #FFFFFF;\n",
              "      --disabled-bg-color: #3B4455;\n",
              "      --disabled-fill-color: #666;\n",
              "  }\n",
              "\n",
              "  .colab-df-quickchart {\n",
              "    background-color: var(--bg-color);\n",
              "    border: none;\n",
              "    border-radius: 50%;\n",
              "    cursor: pointer;\n",
              "    display: none;\n",
              "    fill: var(--fill-color);\n",
              "    height: 32px;\n",
              "    padding: 0;\n",
              "    width: 32px;\n",
              "  }\n",
              "\n",
              "  .colab-df-quickchart:hover {\n",
              "    background-color: var(--hover-bg-color);\n",
              "    box-shadow: 0 1px 2px rgba(60, 64, 67, 0.3), 0 1px 3px 1px rgba(60, 64, 67, 0.15);\n",
              "    fill: var(--button-hover-fill-color);\n",
              "  }\n",
              "\n",
              "  .colab-df-quickchart-complete:disabled,\n",
              "  .colab-df-quickchart-complete:disabled:hover {\n",
              "    background-color: var(--disabled-bg-color);\n",
              "    fill: var(--disabled-fill-color);\n",
              "    box-shadow: none;\n",
              "  }\n",
              "\n",
              "  .colab-df-spinner {\n",
              "    border: 2px solid var(--fill-color);\n",
              "    border-color: transparent;\n",
              "    border-bottom-color: var(--fill-color);\n",
              "    animation:\n",
              "      spin 1s steps(1) infinite;\n",
              "  }\n",
              "\n",
              "  @keyframes spin {\n",
              "    0% {\n",
              "      border-color: transparent;\n",
              "      border-bottom-color: var(--fill-color);\n",
              "      border-left-color: var(--fill-color);\n",
              "    }\n",
              "    20% {\n",
              "      border-color: transparent;\n",
              "      border-left-color: var(--fill-color);\n",
              "      border-top-color: var(--fill-color);\n",
              "    }\n",
              "    30% {\n",
              "      border-color: transparent;\n",
              "      border-left-color: var(--fill-color);\n",
              "      border-top-color: var(--fill-color);\n",
              "      border-right-color: var(--fill-color);\n",
              "    }\n",
              "    40% {\n",
              "      border-color: transparent;\n",
              "      border-right-color: var(--fill-color);\n",
              "      border-top-color: var(--fill-color);\n",
              "    }\n",
              "    60% {\n",
              "      border-color: transparent;\n",
              "      border-right-color: var(--fill-color);\n",
              "    }\n",
              "    80% {\n",
              "      border-color: transparent;\n",
              "      border-right-color: var(--fill-color);\n",
              "      border-bottom-color: var(--fill-color);\n",
              "    }\n",
              "    90% {\n",
              "      border-color: transparent;\n",
              "      border-bottom-color: var(--fill-color);\n",
              "    }\n",
              "  }\n",
              "</style>\n",
              "\n",
              "  <script>\n",
              "    async function quickchart(key) {\n",
              "      const quickchartButtonEl =\n",
              "        document.querySelector('#' + key + ' button');\n",
              "      quickchartButtonEl.disabled = true;  // To prevent multiple clicks.\n",
              "      quickchartButtonEl.classList.add('colab-df-spinner');\n",
              "      try {\n",
              "        const charts = await google.colab.kernel.invokeFunction(\n",
              "            'suggestCharts', [key], {});\n",
              "      } catch (error) {\n",
              "        console.error('Error during call to suggestCharts:', error);\n",
              "      }\n",
              "      quickchartButtonEl.classList.remove('colab-df-spinner');\n",
              "      quickchartButtonEl.classList.add('colab-df-quickchart-complete');\n",
              "    }\n",
              "    (() => {\n",
              "      let quickchartButtonEl =\n",
              "        document.querySelector('#df-2281be71-929e-4623-9cf5-b57dd80474cd button');\n",
              "      quickchartButtonEl.style.display =\n",
              "        google.colab.kernel.accessAllowed ? 'block' : 'none';\n",
              "    })();\n",
              "  </script>\n",
              "</div>\n",
              "\n",
              "    </div>\n",
              "  </div>\n"
            ],
            "application/vnd.google.colaboratory.intrinsic+json": {
              "type": "dataframe",
              "variable_name": "olympics"
            }
          },
          "metadata": {},
          "execution_count": 3
        }
      ]
    },
    {
      "metadata": {
        "_uuid": "e569784fca1dd3aa75f744a6adabcb6926e1dfbf",
        "id": "hiDtNHZRD3wZ"
      },
      "cell_type": "markdown",
      "source": [
        "### Data exploration and Basic Hygiene"
      ]
    },
    {
      "metadata": {
        "_uuid": "b62ae899e20bb40df0021b0baf03d3dc2c82fe20",
        "id": "179QbIwjD3wZ"
      },
      "cell_type": "markdown",
      "source": [
        "#### 1) Missing Values\n",
        "Printing column wise missing values we get-"
      ]
    },
    {
      "metadata": {
        "trusted": true,
        "_uuid": "f610cb9fa01f6e118721a8b18a8d2f0774868001",
        "collapsed": true,
        "_kg_hide-input": true,
        "id": "awsxoUdsD3wa"
      },
      "cell_type": "code",
      "source": [
        "print(olympics.isnull().sum())"
      ],
      "execution_count": null,
      "outputs": []
    },
    {
      "metadata": {
        "_uuid": "7e83b13806dac2ca1638870b6459479844a727ed",
        "id": "GPcVfMYmD3wa"
      },
      "cell_type": "markdown",
      "source": [
        "We find that height, weight and Age have a lot of missing values. Medals have a NaN in about 2,31,333 rows. These can be explained since not all participating athletes would win medals. Let's replace these missing values by 'Did not win' or 'DNW'"
      ]
    },
    {
      "metadata": {
        "trusted": true,
        "collapsed": true,
        "_uuid": "f249dd012cd8eece3dac4fcbb002ee456a9c4efd",
        "id": "1EDt2f9OD3wa"
      },
      "cell_type": "code",
      "source": [
        "olympics['Medal'].fillna('DNW', inplace = True)"
      ],
      "execution_count": null,
      "outputs": []
    },
    {
      "metadata": {
        "trusted": true,
        "_uuid": "62e5e90d1badbf001c14d197fdeddd2f7d9483cc",
        "collapsed": true,
        "_kg_hide-input": true,
        "id": "JGMi944SD3wb"
      },
      "cell_type": "code",
      "source": [
        "# As expected the NaNs in the 'Medal' column disappear!\n",
        "print(olympics.isnull().sum())"
      ],
      "execution_count": null,
      "outputs": []
    },
    {
      "metadata": {
        "_uuid": "f47e25e7dbfe466f5321804829fa4ddd08dc715f",
        "id": "ABO6sgXUD3wb"
      },
      "cell_type": "markdown",
      "source": [
        "#### 2) NOC - National Olympic Committee.\n",
        "These are responsible for organizing their people's participation in the Olympics.\n",
        "Are all NOCs linked to a unique team? We can find this out by taking a unique subset of just the NOC and team columns and taking a value count."
      ]
    },
    {
      "metadata": {
        "trusted": true,
        "_uuid": "f3e4b39a350e60dc4aab91befa6c1e4a0f20d0bb",
        "collapsed": true,
        "id": "0t6XyVWjD3wb"
      },
      "cell_type": "code",
      "source": [
        "print(olympics.loc[:, ['NOC', 'Team']].drop_duplicates()['NOC'].value_counts().head())"
      ],
      "execution_count": null,
      "outputs": []
    },
    {
      "metadata": {
        "_uuid": "d0b123122c0a0600bac21834a1cac452601fe4f0",
        "id": "b0sG3LUPD3wc"
      },
      "cell_type": "markdown",
      "source": [
        "Hmm, This looks interesting. So NOC code 'FRA' is associated with 160 teams? That sounds prepostorous! Let's use a master of NOC to country mapping to correct this."
      ]
    },
    {
      "metadata": {
        "_uuid": "6e7bc2e5599f67c34bb900074efeff1a81885570",
        "id": "KEzL1S4vD3wc"
      },
      "cell_type": "markdown",
      "source": [
        "The NOC data has the NOC code and the corresponding Country Name. The first five rows of the data are shown below -"
      ]
    },
    {
      "metadata": {
        "trusted": true,
        "_uuid": "d876885276fad42fc697d1b9e9a59cdf62f7b63c",
        "collapsed": true,
        "_kg_hide-input": true,
        "id": "vD6iu3j9D3wc"
      },
      "cell_type": "code",
      "source": [
        "# Lets read in the noc_country mapping first\n",
        "noc_country = pd.read_csv('../input/120-years-of-olympic-history-athletes-and-results/noc_regions.csv')\n",
        "noc_country.drop('notes', axis = 1 , inplace = True)\n",
        "noc_country.rename(columns = {'region':'Country'}, inplace = True)\n",
        "\n",
        "noc_country.head()"
      ],
      "execution_count": null,
      "outputs": []
    },
    {
      "metadata": {
        "_uuid": "b991c6107b5b921919f43c94dbd0b27b9013548d",
        "id": "0gRuwiV-D3wc"
      },
      "cell_type": "markdown",
      "source": [
        "We now need to merge the original dataset with the NOC master using the **NOC code as the primary key**. This has to be a left join since we want all participating countries to remain in the data even if their NOC-Country is not found in the master. We can easily correct those manually."
      ]
    },
    {
      "metadata": {
        "trusted": true,
        "_uuid": "9e621c7056d420f0356716f105a0bb0de1e7c797",
        "collapsed": true,
        "_kg_hide-output": true,
        "id": "_nA3D-f0D3wd"
      },
      "cell_type": "code",
      "source": [
        "# merging\n",
        "olympics_merge = olympics.merge(noc_country,\n",
        "                                left_on = 'NOC',\n",
        "                                right_on = 'NOC',\n",
        "                                how = 'left')"
      ],
      "execution_count": null,
      "outputs": []
    },
    {
      "metadata": {
        "_uuid": "a435cf0b273d713ecdbdcc5d633b88d72ab86ad8",
        "id": "iKt-mKFkD3wd"
      },
      "cell_type": "markdown",
      "source": [
        "Even after merging, we find that the below NOC codes in the Olympics data had no counterpart in the NOC master data."
      ]
    },
    {
      "metadata": {
        "trusted": true,
        "_uuid": "c367f56add417bc3fd29d7b2319b76a84d4ff120",
        "collapsed": true,
        "_kg_hide-input": true,
        "id": "fg9PRdJvD3wd"
      },
      "cell_type": "code",
      "source": [
        "# Do we have NOCs that didnt have a matching country in the master?\n",
        "olympics_merge.loc[olympics_merge['Country'].isnull(),['NOC', 'Team']].drop_duplicates()"
      ],
      "execution_count": null,
      "outputs": []
    },
    {
      "metadata": {
        "_uuid": "8521a7eddf96e99bb81a78dd4c39c4ae70f24145",
        "id": "CuErVQHgD3wd"
      },
      "cell_type": "markdown",
      "source": [
        "Looking at their 'Team' names we can manually insert the correct values into the olympics data.\n",
        "\n",
        "Let's put these values in Country - <br>\n",
        "    1. SGP - Singapore\n",
        "    2. ROT - Refugee Olympic Athletes\n",
        "    3. UNK - Unknown\n",
        "    4. TUV - Tuvalu"
      ]
    },
    {
      "metadata": {
        "trusted": true,
        "collapsed": true,
        "_uuid": "6621da117898f36f0ea3fc0be61ba9edf5f13b24",
        "_kg_hide-input": false,
        "id": "vdr5uVsFD3wd"
      },
      "cell_type": "code",
      "source": [
        "# Replace missing Teams by the values above.\n",
        "#olympics_merge.loc[olympics_merge['Country'].isnull(), ['Country']] = olympics_merge['Team']\n",
        "\n",
        "olympics_merge['Country'] = np.where(olympics_merge['NOC']=='SGP', 'Singapore', olympics_merge['Country'])\n",
        "olympics_merge['Country'] = np.where(olympics_merge['NOC']=='ROT', 'Refugee Olympic Athletes', olympics_merge['Country'])\n",
        "olympics_merge['Country'] = np.where(olympics_merge['NOC']=='UNK', 'Unknown', olympics_merge['Country'])\n",
        "olympics_merge['Country'] = np.where(olympics_merge['NOC']=='TUV', 'Tuvalu', olympics_merge['Country'])\n",
        "\n",
        "\n",
        "# Put these values from Country into Team\n",
        "olympics_merge.drop('Team', axis = 1, inplace = True)\n",
        "olympics_merge.rename(columns = {'Country': 'Team'}, inplace = True)"
      ],
      "execution_count": null,
      "outputs": []
    },
    {
      "metadata": {
        "_uuid": "74275d6d410c57fa0bcd5f9f524b4ec0563387a0",
        "id": "K7-0VneiD3we"
      },
      "cell_type": "markdown",
      "source": [
        "Checking again for mapping of NOC to team we find that each is mapped to a single value! Nice!"
      ]
    },
    {
      "metadata": {
        "trusted": true,
        "collapsed": true,
        "_uuid": "5b6a8671cefb9629b8b0a0db59f054fd1f40894b",
        "id": "B5sDsInMD3we"
      },
      "cell_type": "markdown",
      "source": [
        "### Merge GDP data\n",
        "To effectively study factors that affect the medal tally of a country, we need to import the Country-Year wise GDP data. THe GDP data has Country name, code, year and the GDP value. Some unnecessary columns _Indicator Name_ and _Indicator Code_ were removed. GDP data is shown below-"
      ]
    },
    {
      "metadata": {
        "trusted": true,
        "_uuid": "5fa1b6a75d5b45ea50793d0cf65c3b5ee503c2c8",
        "collapsed": true,
        "_kg_hide-input": true,
        "id": "YVvf3DsGD3we"
      },
      "cell_type": "code",
      "source": [
        "# Glance at the data.\n",
        "w_gdp = pd.read_csv('../input/country-wise-gdp-data/world_gdp.csv', skiprows = 3)\n",
        "\n",
        "# Remove unnecessary columns\n",
        "w_gdp.drop(['Indicator Name', 'Indicator Code'], axis = 1, inplace = True)\n",
        "\n",
        "# The columns are the years for which the GDP has been recorded. This needs to brought into a single column for efficient\n",
        "# merging.\n",
        "w_gdp = pd.melt(w_gdp, id_vars = ['Country Name', 'Country Code'], var_name = 'Year', value_name = 'GDP')\n",
        "\n",
        "# convert the year column to numeric\n",
        "w_gdp['Year'] = pd.to_numeric(w_gdp['Year'])\n",
        "\n",
        "w_gdp.head()"
      ],
      "execution_count": null,
      "outputs": []
    },
    {
      "metadata": {
        "_uuid": "29cbbf69dedcdd009e2b86606ed68c6e19c8bee3",
        "id": "vyD2pf89D3we"
      },
      "cell_type": "markdown",
      "source": [
        "Before we actually merge, lets check if NOCs in the olympics data match with those in the Country Code."
      ]
    },
    {
      "metadata": {
        "trusted": true,
        "_uuid": "325b848aa62c43631e47003e05c04bb0bb877bea",
        "collapsed": true,
        "id": "LSXdX-J9D3we"
      },
      "cell_type": "code",
      "source": [
        "len(list(set(olympics_merge['NOC'].unique()) - set(w_gdp['Country Code'].unique())))"
      ],
      "execution_count": null,
      "outputs": []
    },
    {
      "metadata": {
        "_uuid": "308e2fd8a95ffb0c7863b1a9d7850ae2b7019d27",
        "id": "mR-Y-0MDD3wf"
      },
      "cell_type": "markdown",
      "source": [
        "So, 108 NOCs in the olympics dataset dont have representation in the gdp data country codes. Is the name of the country a better way to merge?"
      ]
    },
    {
      "metadata": {
        "trusted": true,
        "_uuid": "c4601d150b3094bf04d61f2584cb4209ffe90f54",
        "collapsed": true,
        "id": "yojuLTqAD3wf"
      },
      "cell_type": "code",
      "source": [
        "len(list(set(olympics_merge['Team'].unique()) - set(w_gdp['Country Name'].unique())))"
      ],
      "execution_count": null,
      "outputs": []
    },
    {
      "metadata": {
        "_uuid": "21cee61c6d1cec4552f58b6220ffcc62c0f89129",
        "id": "AcJGd0eRD3wf"
      },
      "cell_type": "markdown",
      "source": [
        "Aha! only 6! So maybe what we can do is, add a country code for each Team in the olympics dataset first and then merge using the Country Code. The data now has GDP data attached!"
      ]
    },
    {
      "metadata": {
        "trusted": true,
        "collapsed": true,
        "_uuid": "ebd2bb09d2543e767047de9e6077160884551214",
        "id": "ByImpo0kD3wf"
      },
      "cell_type": "code",
      "source": [
        "# Merge to get country code\n",
        "olympics_merge_ccode = olympics_merge.merge(w_gdp[['Country Name', 'Country Code']].drop_duplicates(),\n",
        "                                            left_on = 'Team',\n",
        "                                            right_on = 'Country Name',\n",
        "                                            how = 'left')\n",
        "\n",
        "olympics_merge_ccode.drop('Country Name', axis = 1, inplace = True)\n",
        "\n",
        "# Merge to get gdp too\n",
        "olympics_merge_gdp = olympics_merge_ccode.merge(w_gdp,\n",
        "                                                left_on = ['Country Code', 'Year'],\n",
        "                                                right_on = ['Country Code', 'Year'],\n",
        "                                                how = 'left')\n",
        "\n",
        "olympics_merge_gdp.drop('Country Name', axis = 1, inplace = True)"
      ],
      "execution_count": null,
      "outputs": []
    },
    {
      "metadata": {
        "_uuid": "b323a7e6b578f2f279e984ca55e6830f9d7777e0",
        "id": "XAmt4Ad7D3wh"
      },
      "cell_type": "markdown",
      "source": [
        "### Merge Population Data\n",
        "Apart from GDP, population is also of import when looking at a countries performance. There are two trains of thought for this - <br>\n",
        "1. Higher populations mean a bigger talent pool to choose from,\n",
        "2. Its not GDP alone but GDP per capita that decides how much resources a country has."
      ]
    },
    {
      "metadata": {
        "_uuid": "0a43e78facfdce8606d20b781c388c92c467b93e",
        "id": "8fQIPY0VD3wh"
      },
      "cell_type": "markdown",
      "source": [
        "The first five rows of the population data are shown below. This dataset has Country, year and population statistic. Again, _Indicator Code_ and _Indicator Name_ were deemed unnecessary and removed."
      ]
    },
    {
      "metadata": {
        "trusted": true,
        "_uuid": "969170599379395553e10b1e6ed040e379841f25",
        "collapsed": true,
        "_kg_hide-input": true,
        "id": "fi01ANEiD3wh"
      },
      "cell_type": "code",
      "source": [
        "# Read in the population data\n",
        "w_pop = pd.read_csv('../input/country-wise-population-data/world_pop.csv')\n",
        "\n",
        "w_pop.drop(['Indicator Name', 'Indicator Code'], axis = 1, inplace = True)\n",
        "\n",
        "w_pop = pd.melt(w_pop, id_vars = ['Country', 'Country Code'], var_name = 'Year', value_name = 'Population')\n",
        "\n",
        "# Change the Year to integer type\n",
        "w_pop['Year'] = pd.to_numeric(w_pop['Year'])\n",
        "\n",
        "w_pop.head()"
      ],
      "execution_count": null,
      "outputs": []
    },
    {
      "metadata": {
        "_uuid": "b6661ca0ca8a8e5587d23b1d86b0a07200335e8c",
        "id": "Lc6deFqFD3wh"
      },
      "cell_type": "markdown",
      "source": [
        "Merging this data on _Year_ and _Country Code_ we finally get a complete dataset with GDP and Population mapped. A few sample rows are shown below."
      ]
    },
    {
      "metadata": {
        "trusted": true,
        "_uuid": "2d3640baa769259ef5590123d35130419816cb77",
        "collapsed": true,
        "_kg_hide-input": true,
        "id": "Y_A1ksf_D3wi"
      },
      "cell_type": "code",
      "source": [
        "olympics_complete = olympics_merge_gdp.merge(w_pop,\n",
        "                                            left_on = ['Country Code', 'Year'],\n",
        "                                            right_on= ['Country Code', 'Year'],\n",
        "                                            how = 'left')\n",
        "\n",
        "olympics_complete.drop('Country', axis = 1, inplace = True)\n",
        "\n",
        "olympics_complete.head()"
      ],
      "execution_count": null,
      "outputs": []
    },
    {
      "metadata": {
        "_uuid": "276761d6bbb512b3d21a6ef3d2dff730203fc736",
        "id": "lo3IQL0PD3wi"
      },
      "cell_type": "markdown",
      "source": [
        "There are a lot of missing values in the resulting data - this is to be attributed to the countries not found in the GDP and population masters and also the fact that Population and GDP are only for 1961 onwards while Olympics data is from 1896. Therefore, let's consider only data from 1961 onwards."
      ]
    },
    {
      "metadata": {
        "trusted": true,
        "_uuid": "ce3a02a147e9c7faee0b7cf2150842832c2ed8f6",
        "collapsed": true,
        "_kg_hide-input": true,
        "id": "nIiNiR4_D3wi"
      },
      "cell_type": "code",
      "source": [
        "olympics_complete.isnull().sum()"
      ],
      "execution_count": null,
      "outputs": []
    },
    {
      "metadata": {
        "trusted": true,
        "collapsed": true,
        "_uuid": "232abe75cc70bb1199d261aa7894e6fa1fd4648a",
        "id": "OdZNRNwhD3wi"
      },
      "cell_type": "code",
      "source": [
        "# Lets take data from 1961 onwards only and for summer olympics only\n",
        "olympics_complete_subset = olympics_complete.loc[(olympics_complete['Year'] > 1960) & (olympics_complete['Season'] == \"Summer\"), :]\n",
        "\n",
        "# Reset row indices\n",
        "olympics_complete_subset = olympics_complete_subset.reset_index()"
      ],
      "execution_count": null,
      "outputs": []
    },
    {
      "metadata": {
        "_uuid": "5b76d5fcfb1b2106a4a68391808aac1d885bce3e",
        "id": "J0n_scD0D3wi"
      },
      "cell_type": "markdown",
      "source": [
        "### Exploratory Data Analysis"
      ]
    },
    {
      "metadata": {
        "_uuid": "be4390d3cbf0b4da4070d080c58dafb64deb6688",
        "id": "rMV9teB6D3wj"
      },
      "cell_type": "markdown",
      "source": [
        "### Who has the most medals across all editions of the olympics?\n",
        "Medal tally is the sum of all medals won.\n",
        "\n",
        "Let's create a column that captures whether or not a medal was won! It would be 1 if Medal column says Gold, Silver or Bronze and 0 otherwise."
      ]
    },
    {
      "metadata": {
        "trusted": true,
        "collapsed": true,
        "_uuid": "fbf3c0f5009ec0be75949252571835045fc3ce20",
        "id": "0mVfwXnSD3wj"
      },
      "cell_type": "code",
      "source": [
        "olympics_complete_subset['Medal_Won'] = np.where(olympics_complete_subset.loc[:,'Medal'] == 'DNW', 0, 1)"
      ],
      "execution_count": null,
      "outputs": []
    },
    {
      "metadata": {
        "_uuid": "f8d3b1bf4a8c2b6422fccfef71af22507e674a3d",
        "id": "cGQ1bxcBD3wj"
      },
      "cell_type": "markdown",
      "source": [
        "Before we find out the best olympics nations, we need to realise that each row of the data actually represents whether or not an athlete won a medal or not. This means that for team events, just a sum of the 'Medal_Won' column would give us an incorrect picture of the medal tally.\n",
        "\n",
        "We need to correct for this. First, lets analyse which events are team events. So, what events are team events?\n",
        "#### If a team wins more than one gold medal for an event in an edition of the olympics, then that event is a team event."
      ]
    },
    {
      "metadata": {
        "trusted": true,
        "_uuid": "bb562d0f0e5eb85eb6910b3e01a8a3f8746fbb1f",
        "collapsed": true,
        "id": "RaWZljPID3wj"
      },
      "cell_type": "code",
      "source": [
        "# Check whether number of medals won in a year for an event by a team exceeds 1. This indicates a team event.\n",
        "identify_team_events = pd.pivot_table(olympics_complete_subset,\n",
        "                                      index = ['Team', 'Year', 'Event'],\n",
        "                                      columns = 'Medal',\n",
        "                                      values = 'Medal_Won',\n",
        "                                      aggfunc = 'sum',\n",
        "                                     fill_value = 0).drop('DNW', axis = 1).reset_index()\n",
        "\n",
        "identify_team_events = identify_team_events.loc[identify_team_events['Gold'] > 1, :]\n",
        "\n",
        "team_sports = identify_team_events['Event'].unique()"
      ],
      "execution_count": null,
      "outputs": []
    },
    {
      "metadata": {
        "_uuid": "cac7f67bc0be601a304bf9e885b303c7e1275d7b",
        "id": "XuA42h8_D3wj"
      },
      "cell_type": "markdown",
      "source": [
        "The list below gives names of each event where in a single edition multiple golds were given. Although these are recognised as team events, they are not actually team events. Some examples include - <br>\n",
        "    1. Gymnastics Women's Balance Beam\n",
        "    2. Gymnastics Men's Horizontal Bar\n",
        "    3. Swimming Women's 100 metres Freestyle\n",
        "    4. Swimming Men's 50 metres Freestyle\n",
        "\n",
        "Upon analysis, I found that these are actually single events but because two athletes had the same score/time, both were awarded the gold medal. We need to remove these events from the list of team sports"
      ]
    },
    {
      "metadata": {
        "trusted": true,
        "_uuid": "d8d03502b5d852d531c596edd977d89d01f17334",
        "collapsed": true,
        "_kg_hide-input": false,
        "id": "q3TBzLGHD3wk"
      },
      "cell_type": "code",
      "source": [
        "remove_sports = [\"Gymnastics Women's Balance Beam\", \"Gymnastics Men's Horizontal Bar\",\n",
        "                 \"Swimming Women's 100 metres Freestyle\", \"Swimming Men's 50 metres Freestyle\"]\n",
        "\n",
        "team_sports = list(set(team_sports) - set(remove_sports))"
      ],
      "execution_count": null,
      "outputs": []
    },
    {
      "metadata": {
        "_uuid": "a46d9648c94e03d79f37b260db933680512aab1f",
        "id": "v1V979NLD3wk"
      },
      "cell_type": "markdown",
      "source": [
        "The next thing we need to do is add a column in the dataset that correctly identifies whether the event in the given record is a team event or a single event. We then use this column to correctly calculate the medal tally for each country."
      ]
    },
    {
      "metadata": {
        "trusted": true,
        "collapsed": true,
        "_uuid": "da6000c16668ef05fe75ed87d9bf7758091d4c21",
        "id": "AwAQDrCxD3wk"
      },
      "cell_type": "code",
      "source": [
        "# if an event name matches with one in team sports, then it is a team event. Others are singles events.\n",
        "team_event_mask = olympics_complete_subset['Event'].map(lambda x: x in team_sports)\n",
        "single_event_mask = [not i for i in team_event_mask]\n",
        "\n",
        "# rows where medal_won is 1\n",
        "medal_mask = olympics_complete_subset['Medal_Won'] == 1\n",
        "\n",
        "# Put 1 under team event if medal is won and event in team event list\n",
        "olympics_complete_subset['Team_Event'] = np.where(team_event_mask & medal_mask, 1, 0)\n",
        "\n",
        "# Put 1 under singles event if medal is won and event not in team event list\n",
        "olympics_complete_subset['Single_Event'] = np.where(single_event_mask & medal_mask, 1, 0)\n",
        "\n",
        "# Add an identifier for team/single event\n",
        "olympics_complete_subset['Event_Category'] = olympics_complete_subset['Single_Event'] + \\\n",
        "olympics_complete_subset['Team_Event']"
      ],
      "execution_count": null,
      "outputs": []
    },
    {
      "metadata": {
        "_uuid": "de4b64a550d3ac2daeef3c3c7f7b5f9b617c2ef8",
        "id": "GnxG447ID3wk"
      },
      "cell_type": "markdown",
      "source": [
        "Now, its time to calculate medal tally agnostic of the team size - one gold means one gold for an event. To do this we divide the number of medals by the count of winning team members. How do we get the team members? Sum of event_category column should do that for us!"
      ]
    },
    {
      "metadata": {
        "trusted": true,
        "collapsed": true,
        "_uuid": "c8c8b3a22c29c3e7a2cd1338c910116e8af32d87",
        "id": "M30gNnaOD3wl"
      },
      "cell_type": "code",
      "source": [
        "medal_tally_agnostic = olympics_complete_subset.\\\n",
        "groupby(['Year', 'Team', 'Event', 'Medal'])[['Medal_Won', 'Event_Category']].\\\n",
        "agg('sum').reset_index()\n",
        "\n",
        "medal_tally_agnostic['Medal_Won_Corrected'] = medal_tally_agnostic['Medal_Won']/medal_tally_agnostic['Event_Category']"
      ],
      "execution_count": null,
      "outputs": []
    },
    {
      "metadata": {
        "_uuid": "bbdd68a62e443ec98b0c652a9483484fdb2e787b",
        "id": "SMe8d76HD3wl"
      },
      "cell_type": "markdown",
      "source": [
        "Who are the greatest olympics playing nations of all time? With the corrected data, lets find out the total medal tally of the top 4 countries from 1964 to 2016!"
      ]
    },
    {
      "metadata": {
        "trusted": true,
        "_uuid": "d8fb7d8d15c22907c231038e8e69b1d5367ae90e",
        "collapsed": true,
        "_kg_hide-input": true,
        "id": "m4qG8ZIrD3wl"
      },
      "cell_type": "code",
      "source": [
        "# Medal Tally.\n",
        "medal_tally = medal_tally_agnostic.groupby(['Year','Team'])['Medal_Won_Corrected'].agg('sum').reset_index()\n",
        "\n",
        "medal_tally_pivot = pd.pivot_table(medal_tally,\n",
        "                     index = 'Team',\n",
        "                     columns = 'Year',\n",
        "                     values = 'Medal_Won_Corrected',\n",
        "                     aggfunc = 'sum',\n",
        "                     margins = True).sort_values('All', ascending = False)[1:5]\n",
        "\n",
        "# print total medals won in the given period\n",
        "medal_tally_pivot.loc[:,'All']"
      ],
      "execution_count": null,
      "outputs": []
    },
    {
      "metadata": {
        "_uuid": "db275f3c750430e927bd20ccaadf3d47c5f6f008",
        "id": "EpAC8KklD3wm"
      },
      "cell_type": "markdown",
      "source": [
        "**USA, Russia, Germany** and **China** are the best countries of all time when it comes to medal tallies from 1964 to 2016. What do the yearwise medal tallies look like?"
      ]
    },
    {
      "metadata": {
        "trusted": true,
        "_uuid": "f189c7e287a9804cf823430f8cfc31b26090df0c",
        "collapsed": true,
        "_kg_hide-input": true,
        "id": "FicNNBbND3wm"
      },
      "cell_type": "code",
      "source": [
        "# List of top countries\n",
        "top_countries = ['USA', 'Russia', 'Germany', 'China']\n",
        "\n",
        "year_team_medals = pd.pivot_table(medal_tally,\n",
        "                                  index = 'Year',\n",
        "                                  columns = 'Team',\n",
        "                                  values = 'Medal_Won_Corrected',\n",
        "                                  aggfunc = 'sum')[top_countries]\n",
        "\n",
        "# plotting the medal tallies\n",
        "year_team_medals.plot(linestyle = '-', marker = 'o', alpha = 0.9, figsize = (10,8), linewidth = 2)\n",
        "xlabel('Olympic Year')\n",
        "ylabel('Number of Medals')\n",
        "title('Olympic Performance Comparison')"
      ],
      "execution_count": null,
      "outputs": []
    },
    {
      "metadata": {
        "_uuid": "262d0017c0d15db68411e36877b86c19993fb559",
        "id": "PaFc3Pi-D3wm"
      },
      "cell_type": "markdown",
      "source": [
        "**Interesting Insight 1**: The blank value at 1980 for USA and China is not a data error! In 1980, the United States led a boycott of the Summer Olympic Games in Moscow to protest the late 1979 Soviet invasion of Afghanistan. In total, 65 nations refused to participate in the games, whereas 80 countries sent athletes to compete, India being one of those.\n",
        "\n",
        "**Interesting Insight 2**:The missing point at 1984 for Russia is no error either! The boycott of the 1984 Summer Olympics in Los Angeles followed four years after the U.S.-led boycott of the 1980 Summer Olympics in Moscow. The boycott involved 14 Eastern Bloc countries and allies, led by the Soviet Union, which initiated the boycott on May 8, 1984.\n",
        "\n",
        "**Interesting Insight 3** - China did not win in the olympics till 1984 and it has shown excellent performance since then."
      ]
    },
    {
      "metadata": {
        "_uuid": "b7c018fc3b55f6147a1f1d060c0869aaaf5edfe6",
        "id": "coi3j0LiD3wn"
      },
      "cell_type": "markdown",
      "source": [
        "#### Lets plot a breakup of medal tally by the medal type - Gold, Silver, Bronze"
      ]
    },
    {
      "metadata": {
        "trusted": true,
        "_uuid": "d64e45898c5679e48abd75bf24ece909adfc467c",
        "collapsed": true,
        "_kg_hide-input": true,
        "id": "DHyVwOSHD3wn"
      },
      "cell_type": "code",
      "source": [
        "# List of top countries\n",
        "top_countries = ['USA', 'Russia', 'Germany', 'China']\n",
        "\n",
        "# row mask where countries match\n",
        "row_mask_2 = medal_tally_agnostic['Team'].map(lambda x: x in top_countries)\n",
        "\n",
        "# Pivot table to calculate sum of gold, silver and bronze medals for each country\n",
        "medal_tally_specific = pd.pivot_table(medal_tally_agnostic[row_mask_2],\n",
        "                                     index = ['Team'],\n",
        "                                     columns = 'Medal',\n",
        "                                     values = 'Medal_Won_Corrected',\n",
        "                                     aggfunc = 'sum',\n",
        "                                     fill_value = 0).drop('DNW', axis = 1)\n",
        "\n",
        "# Re-order the columns so that they appear in order on the chart.\n",
        "medal_tally_specific = medal_tally_specific.loc[:, ['Gold', 'Silver', 'Bronze']]\n",
        "\n",
        "medal_tally_specific.plot(kind = 'bar', stacked = True, figsize = (8,6), rot = 0)\n",
        "xlabel('Number of Medals')\n",
        "ylabel('Country')"
      ],
      "execution_count": null,
      "outputs": []
    },
    {
      "metadata": {
        "_uuid": "ea46b921711632cb86be59445e4696fc4437e601",
        "id": "70F139VjD3wn"
      },
      "cell_type": "markdown",
      "source": [
        "Surprisingly, countries are also in order of gold medal tallies!"
      ]
    },
    {
      "metadata": {
        "_uuid": "103e4b10f058850f0d1d33a585a0f0b781baa5ab",
        "id": "A7dK27R2D3wn"
      },
      "cell_type": "markdown",
      "source": [
        "### What sports are these countries best at?\n",
        "\n",
        "So, what we want to find here are the events for which a country has the most proportion of gold medals from its own gold medal tally across the years."
      ]
    },
    {
      "metadata": {
        "trusted": true,
        "_uuid": "08a237e9b85a35e105bd443307571ab9371b3b76",
        "collapsed": true,
        "id": "mGiqTs9nD3wo"
      },
      "cell_type": "code",
      "source": [
        "# To get the sports, teams are best at, we now aggregate the medal_tally_agnostic dataframe as we did earlier.\n",
        "best_team_sports = pd.pivot_table(medal_tally_agnostic[row_mask_2],\n",
        "                                  index = ['Team', 'Event'],\n",
        "                                  columns = 'Medal',\n",
        "                                  values = 'Medal_Won_Corrected',\n",
        "                                  aggfunc = 'sum',\n",
        "                                  fill_value = 0).sort_values(['Team', 'Gold'], ascending = [True, False]).reset_index()\n",
        "\n",
        "best_team_sports.drop(['Bronze', 'Silver', 'DNW'], axis = 1, inplace = True)\n",
        "best_team_sports.columns = ['Team', 'Event', 'Gold_Medal_Count']\n",
        "\n",
        "best_team_sports.groupby('Team').head(5)"
      ],
      "execution_count": null,
      "outputs": []
    },
    {
      "metadata": {
        "_uuid": "474a225eebfe3d29cf07fdf9abfd43fec527f6cc",
        "id": "YOmG3zy0D3wo"
      },
      "cell_type": "markdown",
      "source": [
        "We see that Chinese are good at diving - both men and women, Germans excel at equestrian sports, Russians likes to wrestle and Americans likes to swim."
      ]
    },
    {
      "metadata": {
        "_uuid": "dc826afb133ffa4f1f63b9e819f915f4d60d4dd7",
        "id": "UvpNcuzGD3wo"
      },
      "cell_type": "markdown",
      "source": [
        "## Size of Olympic contingent that these countries send to the Olympics!"
      ]
    },
    {
      "metadata": {
        "_uuid": "64aab584e68c02d45bb3aa715f765e6bfc322980",
        "id": "pdkXIYPSD3wo"
      },
      "cell_type": "markdown",
      "source": [
        "How do the contingents for the various countries look like? I want to know two things specifically -\n",
        "1. The total contingent size being sent to the Olympics\n",
        "2. The team constitution in terms of the proportion of males and females."
      ]
    },
    {
      "metadata": {
        "trusted": true,
        "_uuid": "6c51a5f204b766d2f649f8fd196e56f25d85bd9e",
        "collapsed": true,
        "id": "S4QjsTiXD3wo"
      },
      "cell_type": "code",
      "source": [
        "# take for each year, the team, name of the athlete and gender of the athlete and drop duplicates. These are values\n",
        "# where the same athlete is taking part in more than one sport.\n",
        "\n",
        "# get rows with top countries\n",
        "row_mask_3 = olympics_complete_subset['Team'].map(lambda x: x in top_countries)\n",
        "\n",
        "year_team_gender = olympics_complete_subset.loc[row_mask_3, ['Year','Team', 'Name', 'Sex']].drop_duplicates()"
      ],
      "execution_count": null,
      "outputs": []
    },
    {
      "metadata": {
        "trusted": true,
        "collapsed": true,
        "_uuid": "bbe9cc61c9bdfea807fafe9fad41280691e11856",
        "id": "ubqte9_1D3wp"
      },
      "cell_type": "code",
      "source": [
        "# Create a pivot table to count gender wise representation of each team in each year\n",
        "year_team_gender_count = pd.pivot_table(year_team_gender,\n",
        "                                        index = ['Year', 'Team'],\n",
        "                                        columns = 'Sex',\n",
        "                                        aggfunc = 'count').reset_index()\n",
        "\n",
        "# rename columns as per column names in the 0th level\n",
        "year_team_gender_count.columns = year_team_gender_count.columns.get_level_values(0)\n",
        "\n",
        "# rename the columns appropriately\n",
        "year_team_gender_count.columns = ['Year', 'Team', 'Female_Athletes', 'Male_Athletes']\n",
        "\n",
        "# get total athletes per team-year\n",
        "year_team_gender_count['Total_Athletes'] = year_team_gender_count['Female_Athletes'] + \\\n",
        "year_team_gender_count['Male_Athletes']"
      ],
      "execution_count": null,
      "outputs": []
    },
    {
      "metadata": {
        "trusted": true,
        "_uuid": "44b423d0e5470de66b3cb6fbec2ec945ff147c86",
        "collapsed": true,
        "id": "AT8WRfYXD3wp"
      },
      "cell_type": "code",
      "source": [
        "# Separate country wise data\n",
        "\n",
        "chi_data = year_team_gender_count[year_team_gender_count['Team'] == \"China\"]\n",
        "chi_data.fillna(0, inplace = True)\n",
        "chi_data.set_index('Year', inplace = True)\n",
        "\n",
        "ger_data = year_team_gender_count[year_team_gender_count['Team'] == \"Germany\"]\n",
        "ger_data.set_index('Year', inplace = True)\n",
        "\n",
        "rus_data = year_team_gender_count[year_team_gender_count['Team'] == \"Russia\"]\n",
        "rus_data.set_index('Year', inplace = True)\n",
        "\n",
        "usa_data = year_team_gender_count[year_team_gender_count['Team'] == \"USA\"]\n",
        "usa_data.set_index('Year', inplace = True)"
      ],
      "execution_count": null,
      "outputs": []
    },
    {
      "metadata": {
        "trusted": true,
        "_uuid": "9c40ed8e69c0ef78450b523af573f64ba13480f6",
        "collapsed": true,
        "_kg_hide-input": true,
        "id": "eLh7-WTKD3wp"
      },
      "cell_type": "code",
      "source": [
        "# Plot the values of male, female and total athletes using bar charts and the line charts.\n",
        "fig, ((ax1, ax2), (ax3, ax4)) = subplots(nrows = 2, ncols = 2, figsize = (20, 12), sharey = True)\n",
        "fig.subplots_adjust(hspace = 0.3)\n",
        "\n",
        "# Plot team Australia's contingent size\n",
        "ax1.bar(chi_data.index.values, chi_data['Male_Athletes'], width = -1, align = 'edge', label = 'Male Athletes')\n",
        "ax1.bar(chi_data.index.values, chi_data['Female_Athletes'], width = 1, align = 'edge', label = 'Female Athletes')\n",
        "ax1.plot(chi_data.index.values, chi_data['Total_Athletes'], linestyle = ':', color = 'black', label = 'Total Athletes',\n",
        "        marker = 'o')\n",
        "ax1.set_title('Team China:\\nComposition over the years')\n",
        "ax1.set_ylabel('Number of Athletes')\n",
        "ax1.legend(loc = 'best')\n",
        "\n",
        "# Plot team USA's contingent size\n",
        "ax2.bar(usa_data.index.values, usa_data['Male_Athletes'], width = -1, align = 'edge', label = 'Male Athletes')\n",
        "ax2.bar(usa_data.index.values, usa_data['Female_Athletes'], width = 1, align = 'edge', label = 'Female Athletes')\n",
        "ax2.plot(usa_data.index.values, usa_data['Total_Athletes'], linestyle = ':', color = 'black', label = 'Total Athletes',\n",
        "        marker = 'o')\n",
        "ax2.set_title('Team USA:\\nComposition over the years')\n",
        "ax2.set_ylabel('Number of Athletes')\n",
        "ax2.legend(loc = 'best')\n",
        "\n",
        "# Plot team Germany's contingent size\n",
        "ax3.bar(ger_data.index.values, ger_data['Male_Athletes'], width = -1, align = 'edge', label = 'Male Athletes')\n",
        "ax3.bar(ger_data.index.values, ger_data['Female_Athletes'], width = 1, align = 'edge', label = 'Female Athletes')\n",
        "ax3.plot(ger_data.index.values, ger_data['Total_Athletes'], linestyle = ':', color = 'black', label = 'Total Athletes',\n",
        "         marker = 'o')\n",
        "ax3.set_title('Team Germany:\\nComposition over the years')\n",
        "ax3.set_ylabel('Number of Athletes')\n",
        "ax3.legend(loc = 'best')\n",
        "\n",
        "# Plot team Russia's contingent size\n",
        "ax4.bar(rus_data.index.values, rus_data['Male_Athletes'], width = -1, align = 'edge', label = 'Male Athletes')\n",
        "ax4.bar(rus_data.index.values, rus_data['Female_Athletes'], width = 1, align = 'edge', label = 'Female Athletes')\n",
        "ax4.plot(rus_data.index.values, rus_data['Total_Athletes'], linestyle = ':', color = 'black', label = 'Total Athletes',\n",
        "        marker = 'o')\n",
        "ax4.set_title('Team Russia:\\nComposition over the years')\n",
        "ax4.set_ylabel('Number of Athletes')\n",
        "ax4.legend(loc = 'best')\n",
        "\n",
        "show()"
      ],
      "execution_count": null,
      "outputs": []
    },
    {
      "metadata": {
        "trusted": true,
        "collapsed": true,
        "_uuid": "ac3db41efa1e72d2d6c30c761a7e9dd9bf7790d0",
        "id": "GkW4zAuPD3wp"
      },
      "cell_type": "markdown",
      "source": [
        "### Does the size of the contingent relate with the number of medals?\n",
        "To get to this, I plot the number of medals won by a team across the years with the contingent size sent to the Olympics in those years."
      ]
    },
    {
      "metadata": {
        "_uuid": "4a8b31ce3fb1dd4c358d2e252e978b3166b2292a",
        "trusted": true,
        "collapsed": true,
        "_kg_hide-input": true,
        "id": "AOY1-InED3wq"
      },
      "cell_type": "code",
      "source": [
        "# Get year wise team wise athletes.\n",
        "year_team_athelete = olympics_complete_subset.loc[row_mask_3, ['Year','Team', 'Name']].drop_duplicates()\n",
        "\n",
        "# sum these up to get total contingent size.\n",
        "contingent_size = pd.pivot_table(year_team_athelete,\n",
        "                                 index = 'Year',\n",
        "                                 columns = 'Team',\n",
        "                                 values = 'Name',\n",
        "                                 aggfunc = 'count')\n",
        "\n",
        "fig, ((ax1, ax2), (ax3, ax4)) = subplots(nrows = 2,\n",
        "                                         ncols = 2,\n",
        "                                        figsize = (20,12))\n",
        "\n",
        "fig.subplots_adjust(hspace = 0.3)\n",
        "\n",
        "# Plot australia's medal tally and contingent size\n",
        "contingent_size['China'].plot(ax = ax1, linestyle = '-', marker = 'o', linewidth = 2, color = 'red',\n",
        "                                  label = 'Contingent Size')\n",
        "year_team_medals['China'].plot(ax = ax1, linestyle = '-', marker = 'o', linewidth = 2, color = 'black',\n",
        "                                  label = 'Medal Tally')\n",
        "ax1.plot(2008, contingent_size.loc[2008, 'China'], marker = '^', color = 'red', ms = 14)\n",
        "ax1.plot(2008, year_team_medals.loc[2008, 'China'], marker = '^', color = 'black', ms = 14)\n",
        "ax1.set_xlabel('Olympic Year')\n",
        "ax1.set_ylabel('Number of Athletes/Medal Tally')\n",
        "ax1.set_title('Team China\\nContingent Size vs Medal Tally')\n",
        "ax1.legend(loc = 'best')\n",
        "\n",
        "# Plot USA's medal tally and contingent size\n",
        "contingent_size['USA'].plot(ax = ax2, linestyle = '-', marker = 'o', linewidth = 2, color = 'blue',\n",
        "                           label = 'Contingent Size')\n",
        "year_team_medals['USA'].plot(ax = ax2, linestyle = '-', marker = 'o', linewidth = 2, color = 'black',\n",
        "                            label = 'Medal Tally')\n",
        "ax2.plot(1984, contingent_size.loc[1984, 'USA'], marker = '^', color = 'blue', ms = 14)\n",
        "ax2.plot(1984, year_team_medals.loc[1984, 'USA'], marker = '^', color = 'black', ms = 14)\n",
        "ax2.set_xlabel('Olympic Year')\n",
        "ax2.set_ylabel('Number of Athletes/Medal Tally')\n",
        "ax2.set_title('Team USA\\nContingent Size vs Medal Tally')\n",
        "ax2.legend(loc = 'best')\n",
        "\n",
        "# Plot Germany's medal tally and contingent size\n",
        "contingent_size['Germany'].plot(ax = ax3, linestyle = '-', marker = 'o', linewidth = 2, color = 'green',\n",
        "                               label = 'Contingent Size')\n",
        "year_team_medals['Germany'].plot(ax = ax3, linestyle = '-', marker = 'o', linewidth = 2, color = 'black',\n",
        "                                label = 'Medal Tally')\n",
        "ax3.plot(1972, year_team_medals.loc[1972, 'Germany'], marker = '^', color = 'black', ms = 14)\n",
        "ax3.plot(1972, contingent_size.loc[1972, 'Germany'], marker = '^', color = 'green', ms = 14)\n",
        "ax3.set_xlabel('Olympic Year')\n",
        "ax3.set_ylabel('Number of Athletes/Medal Tally')\n",
        "ax3.set_title('Team Germany\\nContingent Size vs Medal Tally')\n",
        "ax3.legend(loc = 'best')\n",
        "\n",
        "# Plot Russia's medal tally and contingent size\n",
        "contingent_size['Russia'].plot(ax = ax4, linestyle = '-', marker = 'o', linewidth = 2, color = 'orange',\n",
        "                              label = 'Contingent Size')\n",
        "year_team_medals['Russia'].plot(ax = ax4, linestyle = '-', marker = 'o', linewidth = 2, color = 'black',\n",
        "                               label = 'Medal Tally')\n",
        "ax4.plot(1980, contingent_size.loc[1980, 'Russia'], marker = '^', color = 'orange', ms = 14)\n",
        "ax4.plot(1980, year_team_medals.loc[1980, 'Russia'], marker = '^', color = 'black', ms = 14)\n",
        "ax4.set_xlabel('Olympic Year')\n",
        "ax4.set_ylabel('Number of Athletes/Medal Tally')\n",
        "ax4.set_title('Team Russia\\nContingent Size vs Medal Tally')\n",
        "ax4.legend(loc = 'best')\n",
        "\n",
        "show()"
      ],
      "execution_count": null,
      "outputs": []
    },
    {
      "metadata": {
        "_uuid": "04cd3a70b8aa9e94c017fd43f54e5838c967ab22",
        "id": "mXB25cU-D3wq"
      },
      "cell_type": "markdown",
      "source": [
        "It is interesting to see that for each of these countries, a point of peak in the contingent size translates directly to a peak in the medal tally! These have been marked as large triangles on the plots."
      ]
    },
    {
      "metadata": {
        "_uuid": "803dc6876ef5eec27e2d019b2818eea34f478dea",
        "id": "nTvGVw-qD3wq"
      },
      "cell_type": "markdown",
      "source": [
        "Let's now calculate the correlation coefficient between the contingent size and medal tally. We will do this for all teams and not just the top 4 to get more data and therefore, a better sense of the correlation"
      ]
    },
    {
      "metadata": {
        "trusted": true,
        "_uuid": "f728065d6ac26af95bf7cbaa90828c780a853ae5",
        "collapsed": true,
        "id": "EThJfMlUD3wq"
      },
      "cell_type": "code",
      "source": [
        "# Lets merge contingent size and medals won!\n",
        "year_team_medals_unstack = year_team_medals.unstack().reset_index()\n",
        "year_team_medals_unstack.columns = ['Team','Year', 'Medal_Count']\n",
        "\n",
        "contingent_size_unstack = contingent_size.unstack().reset_index()\n",
        "\n",
        "contingent_size_unstack.columns = ['Team','Year', 'Contingent']\n",
        "\n",
        "contingent_medals = contingent_size_unstack.merge(year_team_medals_unstack,\n",
        "                                                 left_on = ['Team', 'Year'],\n",
        "                                                 right_on = ['Team', 'Year'])\n",
        "\n",
        "contingent_medals[['Contingent', 'Medal_Count']].corr()"
      ],
      "execution_count": null,
      "outputs": []
    },
    {
      "metadata": {
        "trusted": true,
        "_uuid": "19183a1dcacbac952175c2f9459fdadf14fc68d5",
        "collapsed": true,
        "id": "hxScZCNGD3wq"
      },
      "cell_type": "markdown",
      "source": [
        "The correlation matrix above confirms my conclusions from the plots! A large positive correlation (0.703) exists between contingent size and medal tally.\n",
        "\n",
        "**Interestingly, as we will see in the analysis below, the edition with peak contingents of all these nations is also the edition when the olympics was held in their home country**"
      ]
    },
    {
      "metadata": {
        "_uuid": "6a3440e00adb8dc7ebfe901ec2c8b0c6ca6ecbe7",
        "id": "HJA_c3r3D3wr"
      },
      "cell_type": "markdown",
      "source": [
        "## Are there some commonalities between the countries?\n",
        "Are there common sports they are all good at? The output shows the number of times a sport appears in the top 5 best sports of each country. The sport that has a number for multiple countries becomes a commonality"
      ]
    },
    {
      "metadata": {
        "trusted": true,
        "_uuid": "ceba2d37e503d78bcbdad1dc6f9a3349ac2ff100",
        "collapsed": true,
        "_kg_hide-input": true,
        "id": "FKxxBquvD3wr"
      },
      "cell_type": "code",
      "source": [
        "# merge best team sports with olympics data to get sport for each event.\n",
        "team_commonalities = best_team_sports.merge(olympics_complete_subset.loc[:,['Sport', 'Event']].drop_duplicates(),\n",
        "                                           left_on = 'Event',\n",
        "                                           right_on = 'Event')\n",
        "\n",
        "team_commonalities = team_commonalities.sort_values(['Team', 'Gold_Medal_Count'], ascending = [True, False])\n",
        "team_commonalities = team_commonalities.groupby('Team').head(5).reset_index()\n",
        "\n",
        "# make a pivot table of the commonalities.\n",
        "pd.pivot_table(team_commonalities,\n",
        "              index = 'Sport',\n",
        "              columns = 'Team',\n",
        "              values = 'Event',\n",
        "              aggfunc = 'count',\n",
        "              fill_value = 0,\n",
        "              margins = True).sort_values('All', ascending = False)[1:]"
      ],
      "execution_count": null,
      "outputs": []
    },
    {
      "metadata": {
        "_uuid": "cc785a4c34851b38d27c1880e85876aac8f4cafc",
        "id": "62EEdjsfD3wr"
      },
      "cell_type": "markdown",
      "source": [
        "#### Interesting Insight 3:\n",
        "There is very little in common between these countries. It is perhaps why these are all at the top. Each competes and wins in its own area of expertise."
      ]
    },
    {
      "metadata": {
        "_uuid": "8654eecb44579b0018142cf62479811dc6c081da",
        "id": "BsZcHr-MD3wr"
      },
      "cell_type": "markdown",
      "source": [
        "## Do teams enjoy a home advantage?\n",
        "A home advantage is a phenomenon where a team does better when the olympics are being held in its own country than it fares in other countries. To keep the comparison fair, we would compare the performance of these teams in the year when the olympics was held at their home vs one edition earlier and one edition later."
      ]
    },
    {
      "metadata": {
        "_uuid": "d512331add8e67b6765b394fce82bc6b6286e6c9",
        "id": "C_EFW06CD3wr"
      },
      "cell_type": "markdown",
      "source": [
        "#### Where was the olympics held in each of the years under consideration?"
      ]
    },
    {
      "metadata": {
        "trusted": true,
        "_uuid": "22c3fa988724fca5b1f70c4282494e8f31a7ca74",
        "collapsed": true,
        "id": "eWPt0UJGD3wr"
      },
      "cell_type": "code",
      "source": [
        "olympics_complete_subset[['Year', 'City']].drop_duplicates().sort_values('Year')"
      ],
      "execution_count": null,
      "outputs": []
    },
    {
      "metadata": {
        "trusted": true,
        "collapsed": true,
        "_uuid": "320030523783bdbed32784af88ec26515f9a5dac",
        "id": "P6p0Vp8ID3ws"
      },
      "cell_type": "markdown",
      "source": [
        "We see from the data that some cities have been captured incorrectly- <br>\n",
        "1. Moskva should be 'Moscow'\n",
        "2. Athina should be 'Athens'\n",
        "\n",
        "Let's first correct these cities before we proceed with any analysis"
      ]
    },
    {
      "metadata": {
        "trusted": true,
        "collapsed": true,
        "_uuid": "66001a1735dad05bb95574dce2673e8b597e769a",
        "id": "Ts7J9-JmD3ws"
      },
      "cell_type": "code",
      "source": [
        "# Correct city names in the dataset\n",
        "olympics_complete_subset['City'].replace(['Athina', 'Moskva'], ['Athens', 'Moscow'], inplace = True)"
      ],
      "execution_count": null,
      "outputs": []
    },
    {
      "metadata": {
        "trusted": true,
        "_uuid": "e1a7152828822d3357f79be55bd8a7846394da7b",
        "collapsed": true,
        "id": "FYaIL2pUD3ws"
      },
      "cell_type": "markdown",
      "source": [
        "Now that the names have been corrected, let's map each of these cities to their countries."
      ]
    },
    {
      "metadata": {
        "_uuid": "9136575b209ae8ef267f27271ab328b04c6eb070",
        "trusted": true,
        "collapsed": true,
        "id": "jRFKa39fD3ws"
      },
      "cell_type": "code",
      "source": [
        "# city to country mapping dictionary\n",
        "city_to_country = {'Tokyo': 'Japan',\n",
        "                  'Mexico City': 'Mexico',\n",
        "                  'Munich': 'Germany',\n",
        "                  'Montreal': 'Canada',\n",
        "                  'Moscow': 'Russia',\n",
        "                  'Los Angeles': 'USA',\n",
        "                  'Seoul': 'South Korea',\n",
        "                  'Barcelona': 'Spain',\n",
        "                  'Atlanta': 'USA',\n",
        "                  'Sydney': 'Australia',\n",
        "                  'Athens': 'Greece',\n",
        "                  'Beijing': 'China',\n",
        "                  'London': 'UK',\n",
        "                  'Rio de Janeiro': 'Brazil'}\n",
        "\n",
        "# Map cities to countries\n",
        "olympics_complete_subset['Country_Host'] = olympics_complete_subset['City'].map(city_to_country)\n",
        "\n",
        "#print the\n",
        "olympics_complete_subset.loc[:, ['Year', 'Country_Host']].drop_duplicates().sort_values('Year')"
      ],
      "execution_count": null,
      "outputs": []
    },
    {
      "metadata": {
        "trusted": true,
        "_uuid": "6f3964d6fb94fb1800170e04018d969110818778",
        "collapsed": true,
        "id": "eIF2zBDBD3ws"
      },
      "cell_type": "markdown",
      "source": [
        "Phew! So somehow it has so happened that each of our top countries has atleast one instance of hosting in the considered time period! Fortuitous! :)\n",
        "\n",
        "One problem though, is that Russia hosted in a year when USA did _NOT_ participate. Since Russia and USA were the top contenders for medals in the period, it should be that Russia won a lot more than they would have in case USA participated. We would ideally need to control for this!\n",
        "\n",
        "The approach for home advantage calculation would be to list host country against each year, playing nation and their total medal tally. Then we would compare performance one edition before and one edition after the olympics was held at that playing country's home."
      ]
    },
    {
      "metadata": {
        "_uuid": "0b66f475c2d5695c9e0a32ef57091f7673cb8226",
        "trusted": true,
        "collapsed": true,
        "_kg_hide-input": true,
        "id": "xbioOHNjD3wt"
      },
      "cell_type": "code",
      "source": [
        "# Extract year, host nation and team name from the data\n",
        "year_host_team = olympics_complete_subset[['Year', 'Country_Host', 'Team']].drop_duplicates()\n",
        "\n",
        "# check rows where host country is the same as team\n",
        "row_mask_4 = (year_host_team['Country_Host'] == year_host_team['Team'])\n",
        "\n",
        "# add years in the year_host_team to capture one previous and one later year\n",
        "year_host_team['Prev_Year'] = year_host_team['Year'] - 4\n",
        "year_host_team['Next_Year'] = year_host_team['Year'] + 4\n",
        "\n",
        "# Subset only where host nation and team were the same\n",
        "year_host_team = year_host_team[row_mask_4]\n",
        "\n",
        "# Calculate the medals won in each year where a team played at home. merge year_host_team with medal_tally on year and team\n",
        "year_host_team_medal = year_host_team.merge(medal_tally,\n",
        "                                           left_on = ['Year', 'Team'],\n",
        "                                           right_on = ['Year', 'Team'],\n",
        "                                           how = 'left')\n",
        "\n",
        "year_host_team_medal.rename(columns = {'Medal_Won_Corrected' : 'Medal_Won_Host_Year'}, inplace = True)\n",
        "\n",
        "# Calculate medals won by team in previous year\n",
        "year_host_team_medal = year_host_team_medal.merge(medal_tally,\n",
        "                                                 left_on = ['Prev_Year', 'Team'],\n",
        "                                                 right_on = ['Year', 'Team'],\n",
        "                                                 how = 'left')\n",
        "\n",
        "year_host_team_medal.drop('Year_y', axis = 1, inplace = True)\n",
        "year_host_team_medal.rename(columns = {'Medal_Won_Corrected': 'Medal_Won_Prev_Year',\n",
        "                                      'Year_x':'Year'}, inplace = True)\n",
        "\n",
        "# Calculate the medals won by the team the year after they hosted.\n",
        "year_host_team_medal = year_host_team_medal.merge(medal_tally,\n",
        "                                                 left_on = ['Next_Year', 'Team'],\n",
        "                                                 right_on = ['Year', 'Team'],\n",
        "                                                 how = 'left')\n",
        "\n",
        "year_host_team_medal.drop('Year_y', axis = 1, inplace = True)\n",
        "year_host_team_medal.rename(columns = {'Year_x': 'Year',\n",
        "                                      'Medal_Won_Corrected' : 'Medal_Won_Next_Year'}, inplace = True)\n",
        "\n",
        "# General formatting changes\n",
        "year_host_team_medal.drop(['Prev_Year', 'Next_Year'], axis = 1, inplace = True)\n",
        "year_host_team_medal.sort_values('Year', ascending = True, inplace = True)\n",
        "year_host_team_medal.reset_index(inplace = True, drop = True)\n",
        "\n",
        "# column re-ordering\n",
        "year_host_team_medal = year_host_team_medal.loc[:, ['Year', 'Country_Host', 'Team', 'Medal_Won_Prev_Year', 'Medal_Won_Host_Year', 'Medal_Won_Next_Year']]\n",
        "\n",
        "year_host_team_medal"
      ],
      "execution_count": null,
      "outputs": []
    },
    {
      "metadata": {
        "_uuid": "7c3008280c55a53e2c2eec4eed0ad46681e982cc",
        "id": "OcQft6XID3wt"
      },
      "cell_type": "markdown",
      "source": [
        "Excluding rows with Russia (1980) and USA (1984) because their biggest contender didn't participate in the olympics that time, we see that in **general team do better whilst playing at home!**"
      ]
    },
    {
      "metadata": {
        "trusted": true,
        "_uuid": "f55402c3e958c01577813e9589666c828b1f98fb",
        "collapsed": true,
        "id": "mF6WHC4kD3wt"
      },
      "cell_type": "markdown",
      "source": [
        "## Does GDP play a part in medal tallies?\n",
        "GDP is a proxy for a country's resources. A higher GDP means more resources to allocate to sports!"
      ]
    },
    {
      "metadata": {
        "_uuid": "c6c83c8361e7414f9a81aa66319e04175085a0e8",
        "trusted": true,
        "collapsed": true,
        "_kg_hide-input": true,
        "id": "USzUcKecD3wt"
      },
      "cell_type": "code",
      "source": [
        "year_team_gdp = olympics_complete_subset.loc[:, ['Year', 'Team', 'GDP']].drop_duplicates()\n",
        "\n",
        "medal_tally_gdp = medal_tally.merge(year_team_gdp,\n",
        "                                   left_on = ['Year', 'Team'],\n",
        "                                   right_on = ['Year', 'Team'],\n",
        "                                   how = 'left')\n",
        "\n",
        "row_mask_5 = medal_tally_gdp['Medal_Won_Corrected'] > 0\n",
        "row_mask_6 = medal_tally_gdp['Team'].map(lambda x: x in top_countries)\n",
        "\n",
        "correlation = medal_tally_gdp.loc[row_mask_5, ['GDP', 'Medal_Won_Corrected']].corr()['Medal_Won_Corrected'][0]\n",
        "\n",
        "plot(medal_tally_gdp.loc[row_mask_5, 'GDP'],\n",
        "     medal_tally_gdp.loc[row_mask_5, 'Medal_Won_Corrected'] ,\n",
        "     linestyle = 'none',\n",
        "     marker = 'o',\n",
        "    alpha = 0.4)\n",
        "xlabel('Country GDP')\n",
        "\n",
        "ylabel('Number of Medals')\n",
        "title('GDP versus medal tally')\n",
        "text(np.nanpercentile(medal_tally_gdp['GDP'], 99.6),\n",
        "     max(medal_tally_gdp['Medal_Won_Corrected']) - 50,\n",
        "     \"Correlation = \" + str(correlation))"
      ],
      "execution_count": null,
      "outputs": []
    },
    {
      "metadata": {
        "_uuid": "bd69b2dbd8f4dee8feefaed542a6ee7699f84916",
        "id": "h7-ompYVD3wu"
      },
      "cell_type": "markdown",
      "source": [
        "The plot shows a 0.622 correlation between GDP and medals won! Thats a significant correlation. **So GDP positively impacts the number of medals won by a team.**"
      ]
    },
    {
      "metadata": {
        "_uuid": "08c52ddac162fe3054ac897e12af3496bb177c7f",
        "id": "gvoURTzaD3wu"
      },
      "cell_type": "markdown",
      "source": [
        "## Who are the most accomplished athletes in each sport?\n",
        "\n",
        "Lets define accomplished athletes as those with a high medal to participation ratio. This means the average number of medals they win with each participation. Participation would be counted as the number of events that they participated in."
      ]
    },
    {
      "metadata": {
        "trusted": true,
        "_uuid": "d5ba058c8998071166338368a449ccef37fc20f4",
        "collapsed": true,
        "id": "nOUJ53mkD3wu"
      },
      "cell_type": "code",
      "source": [
        "# lets create a data frame of athletes with the sport they participated in and the number of medals won.\n",
        "ath_sport_medal = olympics_complete_subset.groupby(['Team','Name', 'Sport'])['Medal_Won'].agg('sum').reset_index()\n",
        "ath_sport_medal.sort_values(['Sport', 'Medal_Won'], ascending = [True, False], inplace = True)\n",
        "\n",
        "# keep only athletes who won medals\n",
        "medal_mask = ath_sport_medal['Medal_Won'] > 0\n",
        "ath_sport_medal = ath_sport_medal[medal_mask]\n",
        "\n",
        "ath_sport_medal.head()"
      ],
      "execution_count": null,
      "outputs": []
    },
    {
      "metadata": {
        "trusted": true,
        "_uuid": "7a0e22772b5682567e479e2965636073c281c6d5",
        "collapsed": true,
        "id": "W3QiGDA8D3wu"
      },
      "cell_type": "code",
      "source": [
        "# Now lets calculate the number of participations of each athlete. This will be sport wise.\n",
        "ath_sport_appearance = olympics_complete_subset.groupby(['Team', 'Name', 'Sport'])['NOC'].agg('count').reset_index()\n",
        "\n",
        "ath_sport_appearance.rename(columns = {'NOC': 'Event_Count'}, inplace = True)\n",
        "\n",
        "ath_sport_appearance.head()\n",
        "\n",
        "# lets merge these two.\n",
        "ath_medal_appearance = ath_sport_medal.merge(ath_sport_appearance,\n",
        "                                            left_on = [\"Team\", \"Name\", \"Sport\"],\n",
        "                                            right_on = ['Team', 'Name', 'Sport'],\n",
        "                                            how = \"left\")\n",
        "\n",
        "# Calculate the medal per participation\n",
        "ath_medal_appearance['Medal_Per_Participation'] = ath_medal_appearance['Medal_Won']/ath_medal_appearance['Event_Count']\n",
        "\n",
        "ath_medal_appearance.sort_values(['Medal_Per_Participation', 'Medal_Won'], ascending = [False, False], inplace = True)\n",
        "\n",
        "ath_medal_appearance.head(10)"
      ],
      "execution_count": null,
      "outputs": []
    },
    {
      "metadata": {
        "_uuid": "9a567bf57cb80e01dbcfc257136caf1d58e05a54",
        "id": "_YdW-QfbD3wu"
      },
      "cell_type": "markdown",
      "source": [
        "We see a lot of athletes with below 10 medals but a medal every time they participate. Let's filter only those that have more than 10 medals."
      ]
    },
    {
      "metadata": {
        "trusted": true,
        "_uuid": "f637244a338dcc06ec8232440d876a7dcf383172",
        "collapsed": true,
        "_kg_hide-input": true,
        "id": "SzyHC5ChD3wv"
      },
      "cell_type": "code",
      "source": [
        "# filter out athletes with less than 10 total medals.\n",
        "ath_medal_appearance = ath_medal_appearance[ath_medal_appearance['Medal_Won'] >= 10]\n",
        "\n",
        "ath_medal_appearance"
      ],
      "execution_count": null,
      "outputs": []
    },
    {
      "metadata": {
        "_uuid": "48a25a3e8c7f9070c926ad64879ad66701b6b3fd",
        "id": "PD4FCmW0D3wv"
      },
      "cell_type": "markdown",
      "source": [
        "We see that 9 out of 18 athletes in this list are from the United States of America and 8 of those are champion swimmers!"
      ]
    },
    {
      "metadata": {
        "_uuid": "1115c333d6264ea670504a2c35fc04c03f4a22b6",
        "id": "eQV9wssuD3wv"
      },
      "cell_type": "markdown",
      "source": [
        "After the exploration, a lot of different questions come to mind. Can we predict the medal tally of a country? Is there some correlation between the age, height or weight of athletes in a sport? Lets try to answer these using machine learning techniques!"
      ]
    },
    {
      "metadata": {
        "_uuid": "6d1ae5077bc26f8b23d5feef905501a1a1278159",
        "id": "MUKVq-rQD3wv"
      },
      "cell_type": "markdown",
      "source": [
        "## Can we predict the medal tally of a country?\n",
        "\n",
        "The exploration phase showed that the following factors affect a country's medal tally -\n",
        "1. GDP\n",
        "2. Contingent Size\n",
        "3. Population\n",
        "4. Home field advantage"
      ]
    },
    {
      "metadata": {
        "trusted": true,
        "_uuid": "33c9cf9cf1eb504d5e4680173c749d557f2b73c3",
        "collapsed": true,
        "id": "iq90TxI2D3wv"
      },
      "cell_type": "code",
      "source": [
        "# create the year, team contingent size\n",
        "year_team_gender = olympics_complete_subset.loc[:,['Year','Team', 'Name', 'Sex']].drop_duplicates()\n",
        "\n",
        "year_team_gender_count = pd.pivot_table(year_team_gender,\n",
        "                                        index = ['Year', 'Team'],\n",
        "                                        columns = 'Sex',\n",
        "                                        aggfunc = 'count').reset_index()\n",
        "\n",
        "# rename columns as per column names in the 0th level\n",
        "year_team_gender_count.columns = year_team_gender_count.columns.get_level_values(0)\n",
        "\n",
        "# rename the columns appropriately\n",
        "year_team_gender_count.columns = ['Year', 'Team', 'Female_Athletes', 'Male_Athletes']\n",
        "year_team_gender_count = year_team_gender_count.fillna(0)\n",
        "\n",
        "# get total athletes per team-year\n",
        "year_team_gender_count['Total_Athletes'] = year_team_gender_count['Female_Athletes'] + \\\n",
        "year_team_gender_count['Male_Athletes']\n",
        "\n",
        "year_team_contingent = year_team_gender_count.loc[:, ['Year', 'Team','Total_Athletes']]\n",
        "year_team_contingent.head()"
      ],
      "execution_count": null,
      "outputs": []
    },
    {
      "metadata": {
        "trusted": true,
        "_uuid": "e82a8fd291a579e3cae6d0e2d57db209e781586a",
        "collapsed": true,
        "id": "LqFJELr1D3ww"
      },
      "cell_type": "code",
      "source": [
        "# get year, team and GDP - medal_tally_gdp has it\n",
        "medal_tally_gdp.head()"
      ],
      "execution_count": null,
      "outputs": []
    },
    {
      "metadata": {
        "trusted": true,
        "_uuid": "023c1c025e7503537729b5eb2515d6c05b06366a",
        "collapsed": true,
        "id": "s18OcBsED3ww"
      },
      "cell_type": "code",
      "source": [
        "# Get year team population\n",
        "year_team_pop = olympics_complete_subset.loc[:, ['Year', 'Team', 'Population']].drop_duplicates()\n",
        "year_team_pop.head()"
      ],
      "execution_count": null,
      "outputs": []
    },
    {
      "metadata": {
        "trusted": true,
        "_uuid": "183bc168741eca33c1a789ec608ac4723a78edd4",
        "collapsed": true,
        "id": "mpsG0v5AD3ww"
      },
      "cell_type": "code",
      "source": [
        "# merge all these datasets together\n",
        "medal_gdp_population = medal_tally_gdp.merge(year_team_pop,\n",
        "                                            left_on = ['Year', 'Team'],\n",
        "                                            right_on = ['Year', 'Team'],\n",
        "                                            how = 'left')\n",
        "\n",
        "medal_gdp_pop_contingent = medal_gdp_population.merge(year_team_contingent,\n",
        "                                                     left_on = ['Year', 'Team'],\n",
        "                                                     right_on = ['Year', 'Team'],\n",
        "                                                     how = 'left')\n",
        "medal_gdp_pop_contingent.head()"
      ],
      "execution_count": null,
      "outputs": []
    },
    {
      "metadata": {
        "trusted": true,
        "_uuid": "bbc3e2658092b58daff510f866a385554b3f92e8",
        "collapsed": true,
        "id": "CrmqGlonD3ww"
      },
      "cell_type": "code",
      "source": [
        "# get host nation from the data\n",
        "year_host = olympics_complete_subset.loc[:, ['Year', 'Country_Host']].drop_duplicates()\n",
        "\n",
        "# merge this with the larger dataset\n",
        "lin_model_data = medal_gdp_pop_contingent.merge(year_host,\n",
        "                              left_on = 'Year',\n",
        "                              right_on = 'Year',\n",
        "                              how = 'left')\n",
        "\n",
        "lin_model_data.head()"
      ],
      "execution_count": null,
      "outputs": []
    },
    {
      "metadata": {
        "trusted": true,
        "_uuid": "2608d709e6eaadb720308989d9e062ac8adffd68",
        "collapsed": true,
        "id": "73nNhsM6D3wx"
      },
      "cell_type": "code",
      "source": [
        "# Regression model\n",
        "import statsmodels.api as sm\n",
        "from patsy import dmatrices\n",
        "from sklearn import metrics\n",
        "\n",
        "# add indicator to see whether home advantage\n",
        "lin_model_data['Home_adv'] = np.where(lin_model_data['Country_Host'] == lin_model_data['Team'], 1, 0)\n",
        "\n",
        "# Add per capita GDP\n",
        "lin_model_data['GDP_per_capita'] = lin_model_data['GDP']/lin_model_data['Population']\n",
        "\n",
        "# remove NAs\n",
        "lin_model_data.dropna(how = 'any', inplace = True)\n",
        "\n",
        "\n",
        "# Lets see the distrbution of population and GDP in a histogram\n",
        "\n",
        "fig, (ax1, ax2) = subplots(nrows = 1,\n",
        "                          ncols = 2,\n",
        "                          figsize = (14,5))\n",
        "\n",
        "lin_model_data['GDP'].hist(bins = 15, ax = ax1)\n",
        "ax1.set_title('GDP Distrbution')\n",
        "\n",
        "lin_model_data['Population'].hist(bins = 15, ax = ax2)\n",
        "ax2.set_title('Population Distribution')"
      ],
      "execution_count": null,
      "outputs": []
    },
    {
      "metadata": {
        "_uuid": "95db04b198d1c8d5c4fdd531efae9f95bbcfbfa5",
        "id": "flfQPDxcD3wx"
      },
      "cell_type": "markdown",
      "source": [
        "The charts show that these variables are highly skewed. It would do better to do a logarithmic transform of these for better fit in the linear model."
      ]
    },
    {
      "metadata": {
        "trusted": true,
        "collapsed": true,
        "_uuid": "b2c2a4247ab5b1348b8d8555e697dd62d5f7f6bd",
        "id": "drLi0lbRD3wx"
      },
      "cell_type": "code",
      "source": [
        "import math\n",
        "\n",
        "# take the log transforms for the variables\n",
        "lin_model_data['Log_Population'] = np.log(lin_model_data['Population'])\n",
        "lin_model_data['Log_GDP'] = np.log(lin_model_data['GDP'])"
      ],
      "execution_count": null,
      "outputs": []
    },
    {
      "metadata": {
        "trusted": true,
        "_uuid": "6c386ca90ac0aa3a3c532f19e3ee13883bf3da8a",
        "collapsed": true,
        "_kg_hide-input": false,
        "id": "g9N3uSTZD3wx"
      },
      "cell_type": "code",
      "source": [
        "# regression model\n",
        "y, X = dmatrices('Medal_Won_Corrected ~ Log_GDP + Log_Population + Total_Athletes + Home_adv + GDP_per_capita',\n",
        "                data = lin_model_data,\n",
        "                return_type = 'dataframe')\n",
        "\n",
        "model = sm.OLS(y, X)\n",
        "result = model.fit()\n",
        "\n",
        "result.summary()"
      ],
      "execution_count": null,
      "outputs": []
    },
    {
      "metadata": {
        "_uuid": "89e8c00764d7a15173332687228e0b7a387c0dd8",
        "id": "UQbKZ9xAD3wx"
      },
      "cell_type": "markdown",
      "source": [
        "The result summary above shows an R^2 value of 0.75 which is good. This means that these variables account for 75% of all variation in the medal tally."
      ]
    },
    {
      "metadata": {
        "_uuid": "bef4b7c329a6f042d64ed24b1218f881e6c03b0b",
        "id": "aU0N9-yvD3wx"
      },
      "cell_type": "markdown",
      "source": [
        "75% is a good R^2, but what matters more is the amount of error we get when predicting the medal tally of a country - It should not be too large. The RMSE error on the predictions is shown below -"
      ]
    },
    {
      "metadata": {
        "trusted": true,
        "_uuid": "f90c5c735734147157339673fe5a44e67e0a85ac",
        "collapsed": true,
        "id": "pmO886DUD3wy"
      },
      "cell_type": "code",
      "source": [
        "# what is the error associated with this prediction?\n",
        "y_predicted = result.predict(X)\n",
        "np.sqrt(metrics.mean_squared_error(y, y_predicted))"
      ],
      "execution_count": null,
      "outputs": []
    },
    {
      "metadata": {
        "_uuid": "b37bbc65959e5b28f253a743a12ef71b99147839",
        "id": "V4PmIrmXD3wy"
      },
      "cell_type": "markdown",
      "source": [
        "The above result shows that if these predictors are known, we can predict the medal tally of a country with an error of just ~7 medals! Thats impressive!"
      ]
    },
    {
      "metadata": {
        "_uuid": "5f8f402ef23b9b9e0a5800974b9895112f282e07",
        "id": "egQZ3QScD3wy"
      },
      "cell_type": "markdown",
      "source": [
        "### Can we predict the sport an athlete plays using just height and weight?"
      ]
    },
    {
      "metadata": {
        "trusted": true,
        "_uuid": "d63a595c8e2b7576c9c26975926850be4ba53d03",
        "collapsed": true,
        "id": "5lhgQOsVD3wy"
      },
      "cell_type": "code",
      "source": [
        "# How many unique sports are there?\n",
        "olympics_complete_subset['Sport'].unique()"
      ],
      "execution_count": null,
      "outputs": []
    },
    {
      "metadata": {
        "trusted": true,
        "collapsed": true,
        "_uuid": "adf68e55414dd859860a71f62f891c32c509c5bc",
        "id": "Rfaw8AvJD3wy"
      },
      "cell_type": "code",
      "source": [
        "# extract sports data for males and height, weight statistics\n",
        "base_data_male = olympics_complete_subset.loc[olympics_complete_subset['Sex'] == \"M\",\n",
        "                                              ['Sport', 'Age','Weight', 'Height']].drop_duplicates()"
      ],
      "execution_count": null,
      "outputs": []
    },
    {
      "metadata": {
        "trusted": true,
        "collapsed": true,
        "_uuid": "29a01e173c1b94dfb980ebcc421810eb2203d069",
        "id": "tHm0O89ID3wz"
      },
      "cell_type": "code",
      "source": [
        "# Need to create y, X for the K nearest neighbors problem\n",
        "Y, X = dmatrices('Sport ~ 0 + Weight + Height',\n",
        "                data = base_data_male,\n",
        "                return_type = 'dataframe')"
      ],
      "execution_count": null,
      "outputs": []
    },
    {
      "metadata": {
        "_uuid": "795396c850fa986ea948e47a1905078622e98f70",
        "id": "1qt5im-SD3wz"
      },
      "cell_type": "markdown",
      "source": [
        "Plotting for a few sports we see that, we can distinguish players who play athletics and weightlifting easily due to their unusual height or weight, but the rest of the sports look tricky to distinguish just on the basis of height and weight."
      ]
    },
    {
      "metadata": {
        "trusted": true,
        "_uuid": "00c2cef35b5ca036f0a7ed54d211d7df56e8a57c",
        "collapsed": true,
        "id": "wTv9-LFID3wz"
      },
      "cell_type": "code",
      "source": [
        "fig, (ax1, ax2) = subplots(nrows = 1, ncols = 2, figsize = (13,6))\n",
        "\n",
        "ax1.scatter(X['Weight'], X['Height'], c = Y['Sport[Weightlifting]'], cmap = 'bwr', marker = '.', alpha = 0.3)\n",
        "ax1.set_title('Weightlifting vs Height and Weight')\n",
        "ax1.set_xlabel('Weight')\n",
        "ax1.set_ylabel('Height')\n",
        "\n",
        "ax2.scatter(X['Weight'], X['Height'], c = Y['Sport[Athletics]'], cmap = 'bwr', marker = '.', alpha = 0.3)\n",
        "ax2.set_title('Athletics vs Height and Weight')\n",
        "ax2.set_xlabel('Weight')\n",
        "ax2.set_ylabel('Height')\n",
        "\n",
        "show()"
      ],
      "execution_count": null,
      "outputs": []
    },
    {
      "metadata": {
        "_uuid": "8a137af194fb933b80589a865210558a6e53a5b6",
        "id": "hJjUlADKD3wz"
      },
      "cell_type": "markdown",
      "source": [
        "Lets see how well we can predict Weightlifting given height and weight."
      ]
    },
    {
      "metadata": {
        "trusted": true,
        "collapsed": true,
        "_uuid": "cfe124690e66ac50ef6ae73fb0c377af98ea963e",
        "id": "psitz4yRD3wz"
      },
      "cell_type": "code",
      "source": [
        "base_data_male['target'] = np.where(base_data_male['Sport'] == 'Weightlifting', 1, 0)"
      ],
      "execution_count": null,
      "outputs": []
    },
    {
      "metadata": {
        "trusted": true,
        "_uuid": "5f93a5ae1679e9e666283386b4bf8bede5573e9a",
        "collapsed": true,
        "id": "UGRuXtzdD3wz"
      },
      "cell_type": "code",
      "source": [
        "# create the y and X matrices\n",
        "from sklearn import model_selection\n",
        "from sklearn import metrics\n",
        "from sklearn import neighbors\n",
        "\n",
        "Y, X = dmatrices('target ~ 0 + Weight + Height',\n",
        "                data = base_data_male,\n",
        "                return_type = 'dataframe')\n",
        "\n",
        "y = Y['target'].values\n",
        "\n",
        "accuracies = []\n",
        "\n",
        "kfold = model_selection.StratifiedKFold(n_splits = 5, shuffle = True).split(X, y)\n",
        "\n",
        "model = neighbors.KNeighborsClassifier(n_neighbors = 20,\n",
        "                                      p = 2,\n",
        "                                      weights = 'uniform')\n",
        "\n",
        "for train, holdout in kfold:\n",
        "    model.fit(X.iloc[train], y[train])\n",
        "    prediction_on_test = model.predict(X.iloc[holdout])\n",
        "    accuracies.append(metrics.accuracy_score(y[holdout], prediction_on_test))\n",
        "\n",
        "np.mean(accuracies)"
      ],
      "execution_count": null,
      "outputs": []
    },
    {
      "metadata": {
        "_uuid": "5a6755b946ceb70f484aa3f631afbc08e0c1f3ca",
        "id": "QxNF_Sq1D3w0"
      },
      "cell_type": "markdown",
      "source": [
        "The above accuracies show that given a height and weight I can predict the sport as being or not being weightlifting with 96% accuracy! This was because the weightlifters were so clearly visibile as separate on the weight/height scatterplot.\n",
        "\n",
        "Next, let's try predicting Athletics!"
      ]
    },
    {
      "metadata": {
        "trusted": true,
        "_uuid": "45b77fb78f09d9777c28122a4388a0b4973abc23",
        "collapsed": true,
        "id": "h9sZ9-S0D3w0"
      },
      "cell_type": "code",
      "source": [
        "# Predicting Athletics from height and weight\n",
        "base_data_male['target'] = np.where(base_data_male['Sport'] == 'Athletics', 1, 0)\n",
        "\n",
        "# create the y and X matrices\n",
        "from sklearn import model_selection\n",
        "from sklearn import metrics\n",
        "from sklearn import neighbors\n",
        "\n",
        "Y, X = dmatrices('target ~ 0 + Weight + Height',\n",
        "                data = base_data_male,\n",
        "                return_type = 'dataframe')\n",
        "\n",
        "y = Y['target'].values\n",
        "\n",
        "accuracies = []\n",
        "\n",
        "kfold = model_selection.StratifiedKFold(n_splits = 5, shuffle = True).split(X, y)\n",
        "\n",
        "model = neighbors.KNeighborsClassifier(n_neighbors = 20,\n",
        "                                      p = 2,\n",
        "                                      weights = 'uniform')\n",
        "\n",
        "for train, holdout in kfold:\n",
        "    model.fit(X.iloc[train], y[train])\n",
        "    prediction_on_test = model.predict(X.iloc[holdout])\n",
        "    accuracies.append(metrics.accuracy_score(y[holdout], prediction_on_test))\n",
        "\n",
        "np.mean(accuracies)"
      ],
      "execution_count": null,
      "outputs": []
    },
    {
      "metadata": {
        "_uuid": "69fb92d34bb337dd35176f34ae9bb48d598b935b",
        "id": "PcDyAjruD3w0"
      },
      "cell_type": "markdown",
      "source": [
        "Wow! We get 86% accurate predictions with k-nearest neighbors while predicting athletics."
      ]
    },
    {
      "metadata": {
        "_uuid": "f3b2c37e53d9d112697f1f9905ca269615ac69fd",
        "id": "4nAVW2FkD3w0"
      },
      "cell_type": "markdown",
      "source": [
        "## This was EXCITING!\n",
        "\n",
        "#### We learnt that -\n",
        "1. USA, Russia, Germany and China are medal tally leaders in the olympics if we count beginning in 1964. They have all sent varying number of athletes into events over time and have fared better with higher contingent sizes.\n",
        "2. Women, who were not a very large part of the Olympics contingents earlier, now enjoy equal representation in the olympics teams.\n",
        "3. 1980 and 1984 were weird years, with USA not participating in 1980 due to Russia invading Afghanistan and then Russia retaliating in 1984 by not participating and starting the friendship games.\n",
        "4. We found interesting insights by looking at the most successful sporting events for each of the top countries -\n",
        "5. While USA loves swimming, China likes diving, Russia has a penchant for wrestling and mostly all of them like athletics.\n",
        "6. GDP impacts the number of medals won by a nation positively!\n",
        "7. The most accomplished athletes list shows 50% Americans, mostly swimmers!\n",
        "8. We can predict the medal tally of a country with an error (RMSE) of just ~7 medals using linear regression on - GDP, Population, GDP_per_capita and contingent size.\n",
        "9. It is also possible to predict some sports that an athlete plays using just his height and weight. We used a very simple K-Nearest neighbors model. This can obviously be improved upon!"
      ]
    },
    {
      "metadata": {
        "_uuid": "033e6d5b2199a734095568f1f6a794d0a9dd4a53",
        "id": "mRfebj33D3w1"
      },
      "cell_type": "markdown",
      "source": [
        "#### Hope you guys enjoyed it! Any comments are welcome! :)"
      ]
    }
  ],
  "metadata": {
    "kernelspec": {
      "display_name": "Python 3",
      "language": "python",
      "name": "python3"
    },
    "language_info": {
      "name": "python",
      "version": "3.6.6",
      "mimetype": "text/x-python",
      "codemirror_mode": {
        "name": "ipython",
        "version": 3
      },
      "pygments_lexer": "ipython3",
      "nbconvert_exporter": "python",
      "file_extension": ".py"
    },
    "colab": {
      "provenance": []
    }
  },
  "nbformat": 4,
  "nbformat_minor": 0
}